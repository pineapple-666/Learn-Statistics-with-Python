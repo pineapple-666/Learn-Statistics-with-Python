{
  "cells": [
    {
      "cell_type": "markdown",
      "metadata": {
        "id": "JjGWBm4r4Koe"
      },
      "source": [
        "# 第 6 章　广义线性模型｜用 Python 动手学统计学\n",
        "\n",
        "## 第 5 节　泊松回归"
      ]
    },
    {
      "cell_type": "markdown",
      "metadata": {
        "id": "yFvxGAgg4Kof"
      },
      "source": [
        "### 4. 环境准备"
      ]
    },
    {
      "cell_type": "code",
      "execution_count": 12,
      "metadata": {
        "collapsed": true,
        "scrolled": true,
        "id": "RO3zNUPF4Kof"
      },
      "outputs": [],
      "source": [
        "# 用于数值计算的库\n",
        "import numpy as np\n",
        "import pandas as pd\n",
        "import scipy as sp\n",
        "from scipy import stats\n",
        "\n",
        "# 用于绘图的库\n",
        "from matplotlib import pyplot as plt\n",
        "import seaborn as sns\n",
        "sns.set()\n",
        "\n",
        "# 用于估计统计模型的库 (部分版本会报出警告信息)\n",
        "import statsmodels.formula.api as smf\n",
        "import statsmodels.api as sm\n",
        "\n",
        "# 设置浮点数打印精度\n",
        "%precision 3\n",
        "# 在 Jupyter Notebook 里显示图形\n",
        "%matplotlib inline\n"
      ]
    },
    {
      "cell_type": "code",
      "execution_count": 13,
      "metadata": {
        "id": "fOUiJe0l4Kog",
        "outputId": "6e7215fe-e9ab-4ac8-b161-95ddb0c39830",
        "colab": {
          "base_uri": "https://localhost:8080/"
        }
      },
      "outputs": [
        {
          "output_type": "stream",
          "name": "stdout",
          "text": [
            "   beer_number  temperature\n",
            "0            6         17.5\n",
            "1           11         26.6\n",
            "2            2          5.0\n"
          ]
        }
      ],
      "source": [
        "# 读取数据\n",
        "url = \"https://raw.github.com/pineapple-666/Learn-Statistics-with-Python/main/data/6-5-1-poisson-regression.csv\"\n",
        "beer = pd.read_csv(url)\n",
        "print(beer.head(3))"
      ]
    },
    {
      "cell_type": "markdown",
      "metadata": {
        "id": "tUwXwYlj4Kog"
      },
      "source": [
        "### 5. 实现：泊松回归"
      ]
    },
    {
      "cell_type": "code",
      "execution_count": 14,
      "metadata": {
        "id": "zXKy32FG4Kog",
        "outputId": "c3354146-cec8-48e5-cd6e-a3655d257178",
        "colab": {
          "base_uri": "https://localhost:8080/",
          "height": 295
        }
      },
      "outputs": [
        {
          "output_type": "execute_result",
          "data": {
            "text/plain": [
              "<class 'statsmodels.iolib.summary.Summary'>\n",
              "\"\"\"\n",
              "                 Generalized Linear Model Regression Results                  \n",
              "==============================================================================\n",
              "Dep. Variable:            beer_number   No. Observations:                   30\n",
              "Model:                            GLM   Df Residuals:                       28\n",
              "Model Family:                 Poisson   Df Model:                            1\n",
              "Link Function:                    Log   Scale:                          1.0000\n",
              "Method:                          IRLS   Log-Likelihood:                -57.672\n",
              "Date:                Wed, 29 Oct 2025   Deviance:                       5.1373\n",
              "Time:                        21:31:47   Pearson chi2:                     5.40\n",
              "No. Iterations:                     4   Pseudo R-squ. (CS):             0.9708\n",
              "Covariance Type:            nonrobust                                         \n",
              "===============================================================================\n",
              "                  coef    std err          z      P>|z|      [0.025      0.975]\n",
              "-------------------------------------------------------------------------------\n",
              "Intercept       0.4476      0.199      2.253      0.024       0.058       0.837\n",
              "temperature     0.0761      0.008      9.784      0.000       0.061       0.091\n",
              "===============================================================================\n",
              "\"\"\""
            ],
            "text/html": [
              "<table class=\"simpletable\">\n",
              "<caption>Generalized Linear Model Regression Results</caption>\n",
              "<tr>\n",
              "  <th>Dep. Variable:</th>      <td>beer_number</td>   <th>  No. Observations:  </th>  <td>    30</td> \n",
              "</tr>\n",
              "<tr>\n",
              "  <th>Model:</th>                  <td>GLM</td>       <th>  Df Residuals:      </th>  <td>    28</td> \n",
              "</tr>\n",
              "<tr>\n",
              "  <th>Model Family:</th>         <td>Poisson</td>     <th>  Df Model:          </th>  <td>     1</td> \n",
              "</tr>\n",
              "<tr>\n",
              "  <th>Link Function:</th>          <td>Log</td>       <th>  Scale:             </th> <td>  1.0000</td>\n",
              "</tr>\n",
              "<tr>\n",
              "  <th>Method:</th>                <td>IRLS</td>       <th>  Log-Likelihood:    </th> <td> -57.672</td>\n",
              "</tr>\n",
              "<tr>\n",
              "  <th>Date:</th>            <td>Wed, 29 Oct 2025</td> <th>  Deviance:          </th> <td>  5.1373</td>\n",
              "</tr>\n",
              "<tr>\n",
              "  <th>Time:</th>                <td>21:31:47</td>     <th>  Pearson chi2:      </th>  <td>  5.40</td> \n",
              "</tr>\n",
              "<tr>\n",
              "  <th>No. Iterations:</th>          <td>4</td>        <th>  Pseudo R-squ. (CS):</th>  <td>0.9708</td> \n",
              "</tr>\n",
              "<tr>\n",
              "  <th>Covariance Type:</th>     <td>nonrobust</td>    <th>                     </th>     <td> </td>   \n",
              "</tr>\n",
              "</table>\n",
              "<table class=\"simpletable\">\n",
              "<tr>\n",
              "       <td></td>          <th>coef</th>     <th>std err</th>      <th>z</th>      <th>P>|z|</th>  <th>[0.025</th>    <th>0.975]</th>  \n",
              "</tr>\n",
              "<tr>\n",
              "  <th>Intercept</th>   <td>    0.4476</td> <td>    0.199</td> <td>    2.253</td> <td> 0.024</td> <td>    0.058</td> <td>    0.837</td>\n",
              "</tr>\n",
              "<tr>\n",
              "  <th>temperature</th> <td>    0.0761</td> <td>    0.008</td> <td>    9.784</td> <td> 0.000</td> <td>    0.061</td> <td>    0.091</td>\n",
              "</tr>\n",
              "</table>"
            ],
            "text/latex": "\\begin{center}\n\\begin{tabular}{lclc}\n\\toprule\n\\textbf{Dep. Variable:}   &   beer\\_number   & \\textbf{  No. Observations:  } &       30    \\\\\n\\textbf{Model:}           &       GLM        & \\textbf{  Df Residuals:      } &       28    \\\\\n\\textbf{Model Family:}    &     Poisson      & \\textbf{  Df Model:          } &        1    \\\\\n\\textbf{Link Function:}   &       Log        & \\textbf{  Scale:             } &    1.0000   \\\\\n\\textbf{Method:}          &       IRLS       & \\textbf{  Log-Likelihood:    } &   -57.672   \\\\\n\\textbf{Date:}            & Wed, 29 Oct 2025 & \\textbf{  Deviance:          } &    5.1373   \\\\\n\\textbf{Time:}            &     21:31:47     & \\textbf{  Pearson chi2:      } &     5.40    \\\\\n\\textbf{No. Iterations:}  &        4         & \\textbf{  Pseudo R-squ. (CS):} &   0.9708    \\\\\n\\textbf{Covariance Type:} &    nonrobust     & \\textbf{                     } &             \\\\\n\\bottomrule\n\\end{tabular}\n\\begin{tabular}{lcccccc}\n                     & \\textbf{coef} & \\textbf{std err} & \\textbf{z} & \\textbf{P$> |$z$|$} & \\textbf{[0.025} & \\textbf{0.975]}  \\\\\n\\midrule\n\\textbf{Intercept}   &       0.4476  &        0.199     &     2.253  &         0.024        &        0.058    &        0.837     \\\\\n\\textbf{temperature} &       0.0761  &        0.008     &     9.784  &         0.000        &        0.061    &        0.091     \\\\\n\\bottomrule\n\\end{tabular}\n%\\caption{Generalized Linear Model Regression Results}\n\\end{center}"
          },
          "metadata": {},
          "execution_count": 14
        }
      ],
      "source": [
        "# 建模\n",
        "mod_pois = smf.glm(\"beer_number ~ temperature\", beer,\n",
        "                   family=sm.families.Poisson()).fit()\n",
        "mod_pois.summary()"
      ]
    },
    {
      "cell_type": "markdown",
      "metadata": {
        "id": "xPN3x8rQ4Kog"
      },
      "source": [
        "### 6. 实现：模型选择"
      ]
    },
    {
      "cell_type": "code",
      "execution_count": 15,
      "metadata": {
        "collapsed": true,
        "id": "_GLBXv0u4Koh"
      },
      "outputs": [],
      "source": [
        "# 空模型\n",
        "mod_pois_null = smf.glm(\n",
        "    \"beer_number ~ 1\", data = beer,\n",
        "    family=sm.families.Poisson()).fit()"
      ]
    },
    {
      "cell_type": "code",
      "execution_count": 16,
      "metadata": {
        "id": "LIZ5LTeH4Koh",
        "outputId": "2940fe83-6ab8-43aa-8fd4-d8866c2f18b7",
        "colab": {
          "base_uri": "https://localhost:8080/"
        }
      },
      "outputs": [
        {
          "output_type": "stream",
          "name": "stdout",
          "text": [
            "空模型　： 223.363\n",
            "气温模型： 119.343\n"
          ]
        }
      ],
      "source": [
        "# 对比 AIC\n",
        "print(\"空模型　：\", mod_pois_null.aic.round(3))\n",
        "print(\"气温模型：\", mod_pois.aic.round(3))"
      ]
    },
    {
      "cell_type": "markdown",
      "metadata": {
        "id": "hZDrc9qQ4Koh"
      },
      "source": [
        "### 7. 实现：回归曲线"
      ]
    },
    {
      "cell_type": "code",
      "execution_count": 17,
      "metadata": {
        "id": "D37WwKf04Koh",
        "outputId": "36a95ecb-0694-4e01-ad67-05fc629711e2",
        "colab": {
          "base_uri": "https://localhost:8080/",
          "height": 518
        }
      },
      "outputs": [
        {
          "output_type": "execute_result",
          "data": {
            "text/plain": [
              "[<matplotlib.lines.Line2D at 0x7de2e96c1fd0>]"
            ]
          },
          "metadata": {},
          "execution_count": 17
        },
        {
          "output_type": "display_data",
          "data": {
            "text/plain": [
              "<Figure size 500x500 with 1 Axes>"
            ],
            "image/png": "[encoded data removed]"
          },
          "metadata": {}
        }
      ],
      "source": [
        "# 绘制回归曲线\n",
        "\n",
        "# 计算预测值\n",
        "x_plot = np.arange(0, 37)\n",
        "pred = mod_pois.predict(\n",
        "    pd.DataFrame({\"temperature\": x_plot}))\n",
        "\n",
        "# 不含默认回归直线的 lmplot\n",
        "sns.lmplot(y=\"beer_number\", x = \"temperature\",\n",
        "           data = beer, fit_reg = False,\n",
        "          scatter_kws = {\"color\":\"black\"})\n",
        "# 绘出回归曲线\n",
        "plt.plot(x_plot, pred, color=\"black\")"
      ]
    },
    {
      "cell_type": "markdown",
      "metadata": {
        "id": "toM6Ff4O4Koh"
      },
      "source": [
        "### 8. 回归系数的含义"
      ]
    },
    {
      "cell_type": "code",
      "execution_count": 18,
      "metadata": {
        "id": "TAYQV-Gn4Koh",
        "outputId": "eac381e9-cc14-4070-c550-8dd54cbb5ebc",
        "colab": {
          "base_uri": "https://localhost:8080/",
          "height": 115
        }
      },
      "outputs": [
        {
          "output_type": "execute_result",
          "data": {
            "text/plain": [
              "0    1.079045\n",
              "dtype: float64"
            ],
            "text/html": [
              "<div>\n",
              "<style scoped>\n",
              "    .dataframe tbody tr th:only-of-type {\n",
              "        vertical-align: middle;\n",
              "    }\n",
              "\n",
              "    .dataframe tbody tr th {\n",
              "        vertical-align: top;\n",
              "    }\n",
              "\n",
              "    .dataframe thead th {\n",
              "        text-align: right;\n",
              "    }\n",
              "</style>\n",
              "<table border=\"1\" class=\"dataframe\">\n",
              "  <thead>\n",
              "    <tr style=\"text-align: right;\">\n",
              "      <th></th>\n",
              "      <th>0</th>\n",
              "    </tr>\n",
              "  </thead>\n",
              "  <tbody>\n",
              "    <tr>\n",
              "      <th>0</th>\n",
              "      <td>1.079045</td>\n",
              "    </tr>\n",
              "  </tbody>\n",
              "</table>\n",
              "</div><br><label><b>dtype:</b> float64</label>"
            ]
          },
          "metadata": {},
          "execution_count": 18
        }
      ],
      "source": [
        "# 气温为 1 度时销售数量的期望\n",
        "exp_val_1 = pd.DataFrame({\"temperature\": [1]})\n",
        "pred_1 = mod_pois.predict(exp_val_1)\n",
        "\n",
        "# 气温为 2 度时销售数量的期望\n",
        "exp_val_2 = pd.DataFrame({\"temperature\": [2]})\n",
        "pred_2 = mod_pois.predict(exp_val_2)\n",
        "\n",
        "# 气温每升高 1 度, 销量变为多少倍\n",
        "pred_2 / pred_1"
      ]
    },
    {
      "cell_type": "code",
      "execution_count": 19,
      "metadata": {
        "id": "nAdFwDP34Koi",
        "outputId": "ebb78b30-fb3f-430f-ac85-0a5475d1a9a0",
        "colab": {
          "base_uri": "https://localhost:8080/"
        }
      },
      "outputs": [
        {
          "output_type": "execute_result",
          "data": {
            "text/plain": [
              "np.float64(1.079045054586893)"
            ]
          },
          "metadata": {},
          "execution_count": 19
        }
      ],
      "source": [
        "# e 的指数为回归系数\n",
        "np.exp(mod_pois.params[\"temperature\"])"
      ]
    }
  ],
  "metadata": {
    "kernelspec": {
      "display_name": "Python 3",
      "language": "python",
      "name": "python3"
    },
    "language_info": {
      "codemirror_mode": {
        "name": "ipython",
        "version": 3
      },
      "file_extension": ".py",
      "mimetype": "text/x-python",
      "name": "python",
      "nbconvert_exporter": "python",
      "pygments_lexer": "ipython3",
      "version": "3.8.2"
    },
    "colab": {
      "provenance": []
    }
  },
  "nbformat": 4,
  "nbformat_minor": 0
}