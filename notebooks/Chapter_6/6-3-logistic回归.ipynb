{
  "cells": [
    {
      "cell_type": "markdown",
      "metadata": {
        "id": "4OSkNfhKkRZm"
      },
      "source": [
        "# 第 6 章　广义线性模型｜用 Python 动手学统计学\n",
        "\n",
        "## 第 3 节　logistic 回归"
      ]
    },
    {
      "cell_type": "markdown",
      "metadata": {
        "id": "VkZCb6LfkRZn"
      },
      "source": [
        "### 10. 环境准备"
      ]
    },
    {
      "cell_type": "code",
      "execution_count": 23,
      "metadata": {
        "collapsed": true,
        "scrolled": true,
        "id": "2QvuI9jtkRZn"
      },
      "outputs": [],
      "source": [
        "# 用于数值计算的库\n",
        "import numpy as np\n",
        "import pandas as pd\n",
        "import scipy as sp\n",
        "from scipy import stats\n",
        "\n",
        "# 用于绘图的库\n",
        "from matplotlib import pyplot as plt\n",
        "import seaborn as sns\n",
        "sns.set()\n",
        "\n",
        "# 用于估计统计模型的库 (部分版本会报出警告信息)\n",
        "import statsmodels.formula.api as smf\n",
        "import statsmodels.api as sm\n",
        "\n",
        "# 设置浮点数打印精度\n",
        "%precision 3\n",
        "# 在 Jupyter Notebook 里显示图形\n",
        "%matplotlib inline\n"
      ]
    },
    {
      "cell_type": "markdown",
      "metadata": {
        "id": "GOYKxi2IkRZn"
      },
      "source": [
        "### 11. 实现：读取数据并可视化"
      ]
    },
    {
      "cell_type": "code",
      "execution_count": 24,
      "metadata": {
        "colab": {
          "base_uri": "https://localhost:8080/"
        },
        "id": "0tbW4M2LkRZn",
        "outputId": "c5b02d8f-c683-40c3-a0bb-0bf1e2170ff0"
      },
      "outputs": [
        {
          "output_type": "stream",
          "name": "stdout",
          "text": [
            "   hours  result\n",
            "0      0       0\n",
            "1      0       0\n",
            "2      0       0\n"
          ]
        }
      ],
      "source": [
        "# 读取数据\n",
        "url = \"https://raw.github.com/pineapple-666/Learn-Statistics-with-Python/main/data/6-3-1-logistic-regression.csv\"\n",
        "test_result = pd.read_csv(url)\n",
        "print(test_result.head(3))"
      ]
    },
    {
      "cell_type": "code",
      "execution_count": 25,
      "metadata": {
        "colab": {
          "base_uri": "https://localhost:8080/",
          "height": 582
        },
        "id": "DLuLXlOrkRZo",
        "outputId": "a0514797-1604-48e8-c26f-6b34eb2222b2"
      },
      "outputs": [
        {
          "output_type": "stream",
          "name": "stderr",
          "text": [
            "/tmp/ipython-input-2023945889.py:2: FutureWarning: \n",
            "\n",
            "Passing `palette` without assigning `hue` is deprecated and will be removed in v0.14.0. Assign the `x` variable to `hue` and set `legend=False` for the same effect.\n",
            "\n",
            "  sns.barplot(x = \"hours\",y = \"result\",\n"
          ]
        },
        {
          "output_type": "execute_result",
          "data": {
            "text/plain": [
              "<Axes: xlabel='hours', ylabel='result'>"
            ]
          },
          "metadata": {},
          "execution_count": 25
        },
        {
          "output_type": "display_data",
          "data": {
            "text/plain": [
              "<Figure size 640x480 with 1 Axes>"
            ],
            "image/png": "[encoded data removed]"
          },
          "metadata": {}
        }
      ],
      "source": [
        "# 可视化\n",
        "sns.barplot(x = \"hours\",y = \"result\",\n",
        "            data = test_result, palette='gray_r')"
      ]
    },
    {
      "cell_type": "code",
      "execution_count": 26,
      "metadata": {
        "colab": {
          "base_uri": "https://localhost:8080/"
        },
        "id": "b8eYobMmkRZo",
        "outputId": "a73f0e75-44b8-4e2c-d4da-77384f2c7ac1"
      },
      "outputs": [
        {
          "output_type": "stream",
          "name": "stdout",
          "text": [
            "       result\n",
            "hours        \n",
            "0         0.0\n",
            "1         0.0\n",
            "2         0.1\n",
            "3         0.1\n",
            "4         0.4\n",
            "5         0.4\n",
            "6         0.9\n",
            "7         0.8\n",
            "8         0.9\n",
            "9         1.0\n"
          ]
        }
      ],
      "source": [
        "# 学习时间与合格率的关系\n",
        "print(test_result.groupby(\"hours\").mean())"
      ]
    },
    {
      "cell_type": "markdown",
      "metadata": {
        "id": "F5ij618-kRZo"
      },
      "source": [
        "### 12. 实现：logistic 回归"
      ]
    },
    {
      "cell_type": "code",
      "execution_count": 27,
      "metadata": {
        "collapsed": true,
        "id": "hLA1-ARhkRZo"
      },
      "outputs": [],
      "source": [
        "# 建模\n",
        "mod_glm = smf.glm(formula = \"result ~ hours\",\n",
        "                  data = test_result,\n",
        "                  family=sm.families.Binomial()).fit()"
      ]
    },
    {
      "cell_type": "code",
      "execution_count": 28,
      "metadata": {
        "collapsed": true,
        "id": "d7wfidS2kRZo"
      },
      "outputs": [],
      "source": [
        "# 参考: 指定联系函数\n",
        "logistic_reg = smf.glm(formula = \"result ~ hours\",\n",
        "                       data = test_result,\n",
        "                       family=sm.families.Binomial(link=sm.families.links.Logit())).fit()"
      ]
    },
    {
      "cell_type": "markdown",
      "metadata": {
        "id": "SL1H7YpbkRZo"
      },
      "source": [
        "### 13. 实现：logistic 回归的结果"
      ]
    },
    {
      "cell_type": "code",
      "execution_count": 29,
      "metadata": {
        "colab": {
          "base_uri": "https://localhost:8080/",
          "height": 295
        },
        "id": "aOfbN-IWkRZp",
        "outputId": "d55bbc73-c817-4fd2-e8f3-768d26e48619"
      },
      "outputs": [
        {
          "output_type": "execute_result",
          "data": {
            "text/plain": [
              "<class 'statsmodels.iolib.summary.Summary'>\n",
              "\"\"\"\n",
              "                 Generalized Linear Model Regression Results                  \n",
              "==============================================================================\n",
              "Dep. Variable:                 result   No. Observations:                  100\n",
              "Model:                            GLM   Df Residuals:                       98\n",
              "Model Family:                Binomial   Df Model:                            1\n",
              "Link Function:                  Logit   Scale:                          1.0000\n",
              "Method:                          IRLS   Log-Likelihood:                -34.014\n",
              "Date:                Wed, 29 Oct 2025   Deviance:                       68.028\n",
              "Time:                        20:05:36   Pearson chi2:                     84.9\n",
              "No. Iterations:                     6   Pseudo R-squ. (CS):             0.5032\n",
              "Covariance Type:            nonrobust                                         \n",
              "==============================================================================\n",
              "                 coef    std err          z      P>|z|      [0.025      0.975]\n",
              "------------------------------------------------------------------------------\n",
              "Intercept     -4.5587      0.901     -5.061      0.000      -6.324      -2.793\n",
              "hours          0.9289      0.174      5.345      0.000       0.588       1.270\n",
              "==============================================================================\n",
              "\"\"\""
            ],
            "text/html": [
              "<table class=\"simpletable\">\n",
              "<caption>Generalized Linear Model Regression Results</caption>\n",
              "<tr>\n",
              "  <th>Dep. Variable:</th>        <td>result</td>      <th>  No. Observations:  </th>  <td>   100</td> \n",
              "</tr>\n",
              "<tr>\n",
              "  <th>Model:</th>                  <td>GLM</td>       <th>  Df Residuals:      </th>  <td>    98</td> \n",
              "</tr>\n",
              "<tr>\n",
              "  <th>Model Family:</th>        <td>Binomial</td>     <th>  Df Model:          </th>  <td>     1</td> \n",
              "</tr>\n",
              "<tr>\n",
              "  <th>Link Function:</th>         <td>Logit</td>      <th>  Scale:             </th> <td>  1.0000</td>\n",
              "</tr>\n",
              "<tr>\n",
              "  <th>Method:</th>                <td>IRLS</td>       <th>  Log-Likelihood:    </th> <td> -34.014</td>\n",
              "</tr>\n",
              "<tr>\n",
              "  <th>Date:</th>            <td>Wed, 29 Oct 2025</td> <th>  Deviance:          </th> <td>  68.028</td>\n",
              "</tr>\n",
              "<tr>\n",
              "  <th>Time:</th>                <td>20:05:36</td>     <th>  Pearson chi2:      </th>  <td>  84.9</td> \n",
              "</tr>\n",
              "<tr>\n",
              "  <th>No. Iterations:</th>          <td>6</td>        <th>  Pseudo R-squ. (CS):</th>  <td>0.5032</td> \n",
              "</tr>\n",
              "<tr>\n",
              "  <th>Covariance Type:</th>     <td>nonrobust</td>    <th>                     </th>     <td> </td>   \n",
              "</tr>\n",
              "</table>\n",
              "<table class=\"simpletable\">\n",
              "<tr>\n",
              "      <td></td>         <th>coef</th>     <th>std err</th>      <th>z</th>      <th>P>|z|</th>  <th>[0.025</th>    <th>0.975]</th>  \n",
              "</tr>\n",
              "<tr>\n",
              "  <th>Intercept</th> <td>   -4.5587</td> <td>    0.901</td> <td>   -5.061</td> <td> 0.000</td> <td>   -6.324</td> <td>   -2.793</td>\n",
              "</tr>\n",
              "<tr>\n",
              "  <th>hours</th>     <td>    0.9289</td> <td>    0.174</td> <td>    5.345</td> <td> 0.000</td> <td>    0.588</td> <td>    1.270</td>\n",
              "</tr>\n",
              "</table>"
            ],
            "text/latex": "\\begin{center}\n\\begin{tabular}{lclc}\n\\toprule\n\\textbf{Dep. Variable:}   &      result      & \\textbf{  No. Observations:  } &      100    \\\\\n\\textbf{Model:}           &       GLM        & \\textbf{  Df Residuals:      } &       98    \\\\\n\\textbf{Model Family:}    &     Binomial     & \\textbf{  Df Model:          } &        1    \\\\\n\\textbf{Link Function:}   &      Logit       & \\textbf{  Scale:             } &    1.0000   \\\\\n\\textbf{Method:}          &       IRLS       & \\textbf{  Log-Likelihood:    } &   -34.014   \\\\\n\\textbf{Date:}            & Wed, 29 Oct 2025 & \\textbf{  Deviance:          } &    68.028   \\\\\n\\textbf{Time:}            &     20:05:36     & \\textbf{  Pearson chi2:      } &     84.9    \\\\\n\\textbf{No. Iterations:}  &        6         & \\textbf{  Pseudo R-squ. (CS):} &   0.5032    \\\\\n\\textbf{Covariance Type:} &    nonrobust     & \\textbf{                     } &             \\\\\n\\bottomrule\n\\end{tabular}\n\\begin{tabular}{lcccccc}\n                   & \\textbf{coef} & \\textbf{std err} & \\textbf{z} & \\textbf{P$> |$z$|$} & \\textbf{[0.025} & \\textbf{0.975]}  \\\\\n\\midrule\n\\textbf{Intercept} &      -4.5587  &        0.901     &    -5.061  &         0.000        &       -6.324    &       -2.793     \\\\\n\\textbf{hours}     &       0.9289  &        0.174     &     5.345  &         0.000        &        0.588    &        1.270     \\\\\n\\bottomrule\n\\end{tabular}\n%\\caption{Generalized Linear Model Regression Results}\n\\end{center}"
          },
          "metadata": {},
          "execution_count": 29
        }
      ],
      "source": [
        "# 打印估计的结果\n",
        "mod_glm.summary()"
      ]
    },
    {
      "cell_type": "markdown",
      "metadata": {
        "id": "2IMSp8xekRZp"
      },
      "source": [
        "### 14. 实现：模型选择"
      ]
    },
    {
      "cell_type": "code",
      "execution_count": 30,
      "metadata": {
        "collapsed": true,
        "id": "eLmb53V0kRZp"
      },
      "outputs": [],
      "source": [
        "# 空模型\n",
        "mod_glm_null = smf.glm(\n",
        "    \"result ~ 1\", data = test_result,\n",
        "    family=sm.families.Binomial()).fit()"
      ]
    },
    {
      "cell_type": "code",
      "execution_count": 31,
      "metadata": {
        "colab": {
          "base_uri": "https://localhost:8080/"
        },
        "id": "eHqXHAz8kRZp",
        "outputId": "0632f383-ff1e-4720-ac13-0ae80ff4efd0"
      },
      "outputs": [
        {
          "output_type": "stream",
          "name": "stdout",
          "text": [
            "空模型　　　： 139.989\n",
            "学习时间模型： 72.028\n"
          ]
        }
      ],
      "source": [
        "# 对比 AIC\n",
        "print(\"空模型　　　：\", mod_glm_null.aic.round(3))\n",
        "print(\"学习时间模型：\", mod_glm.aic.round(3))"
      ]
    },
    {
      "cell_type": "markdown",
      "metadata": {
        "id": "1VdDbktYkRZp"
      },
      "source": [
        "### 15. 实现：回归曲线"
      ]
    },
    {
      "cell_type": "code",
      "execution_count": 32,
      "metadata": {
        "colab": {
          "base_uri": "https://localhost:8080/",
          "height": 517
        },
        "id": "QES3ZUsckRZp",
        "outputId": "e36ab2a9-c223-4781-a8d6-27e9335789a9"
      },
      "outputs": [
        {
          "output_type": "execute_result",
          "data": {
            "text/plain": [
              "<seaborn.axisgrid.FacetGrid at 0x786a1d054b30>"
            ]
          },
          "metadata": {},
          "execution_count": 32
        },
        {
          "output_type": "display_data",
          "data": {
            "text/plain": [
              "<Figure size 500x500 with 1 Axes>"
            ],
            "image/png": "[encoded data removed]"
          },
          "metadata": {}
        }
      ],
      "source": [
        "# 用 lmplot 绘制 logistic 回归曲线\n",
        "sns.lmplot(x = \"hours\", y = \"result\",\n",
        "           data = test_result,\n",
        "           logistic = True,\n",
        "           scatter_kws = {\"color\": \"black\"},\n",
        "           line_kws    = {\"color\": \"black\"},\n",
        "           x_jitter = 0.1, y_jitter = 0.02)"
      ]
    },
    {
      "cell_type": "markdown",
      "metadata": {
        "id": "FbewYYGVkRZp"
      },
      "source": [
        "### 16. 实现：预测成功概率"
      ]
    },
    {
      "cell_type": "code",
      "execution_count": 33,
      "metadata": {
        "colab": {
          "base_uri": "https://localhost:8080/",
          "height": 398
        },
        "id": "p9TUuVtukRZp",
        "outputId": "a6005620-8e21-4d78-86a1-2961cee90db3"
      },
      "outputs": [
        {
          "output_type": "execute_result",
          "data": {
            "text/plain": [
              "0    0.010367\n",
              "1    0.025836\n",
              "2    0.062920\n",
              "3    0.145291\n",
              "4    0.300876\n",
              "5    0.521427\n",
              "6    0.733929\n",
              "7    0.874741\n",
              "8    0.946467\n",
              "9    0.978147\n",
              "dtype: float64"
            ],
            "text/html": [
              "<div>\n",
              "<style scoped>\n",
              "    .dataframe tbody tr th:only-of-type {\n",
              "        vertical-align: middle;\n",
              "    }\n",
              "\n",
              "    .dataframe tbody tr th {\n",
              "        vertical-align: top;\n",
              "    }\n",
              "\n",
              "    .dataframe thead th {\n",
              "        text-align: right;\n",
              "    }\n",
              "</style>\n",
              "<table border=\"1\" class=\"dataframe\">\n",
              "  <thead>\n",
              "    <tr style=\"text-align: right;\">\n",
              "      <th></th>\n",
              "      <th>0</th>\n",
              "    </tr>\n",
              "  </thead>\n",
              "  <tbody>\n",
              "    <tr>\n",
              "      <th>0</th>\n",
              "      <td>0.010367</td>\n",
              "    </tr>\n",
              "    <tr>\n",
              "      <th>1</th>\n",
              "      <td>0.025836</td>\n",
              "    </tr>\n",
              "    <tr>\n",
              "      <th>2</th>\n",
              "      <td>0.062920</td>\n",
              "    </tr>\n",
              "    <tr>\n",
              "      <th>3</th>\n",
              "      <td>0.145291</td>\n",
              "    </tr>\n",
              "    <tr>\n",
              "      <th>4</th>\n",
              "      <td>0.300876</td>\n",
              "    </tr>\n",
              "    <tr>\n",
              "      <th>5</th>\n",
              "      <td>0.521427</td>\n",
              "    </tr>\n",
              "    <tr>\n",
              "      <th>6</th>\n",
              "      <td>0.733929</td>\n",
              "    </tr>\n",
              "    <tr>\n",
              "      <th>7</th>\n",
              "      <td>0.874741</td>\n",
              "    </tr>\n",
              "    <tr>\n",
              "      <th>8</th>\n",
              "      <td>0.946467</td>\n",
              "    </tr>\n",
              "    <tr>\n",
              "      <th>9</th>\n",
              "      <td>0.978147</td>\n",
              "    </tr>\n",
              "  </tbody>\n",
              "</table>\n",
              "</div><br><label><b>dtype:</b> float64</label>"
            ]
          },
          "metadata": {},
          "execution_count": 33
        }
      ],
      "source": [
        "# 0~9 上公差为 1 的等差数列\n",
        "exp_val = pd.DataFrame({\n",
        "    \"hours\": np.arange(0, 10, 1)\n",
        "})\n",
        "# 成功概率的预测值\n",
        "pred = mod_glm.predict(exp_val)\n",
        "pred"
      ]
    },
    {
      "cell_type": "markdown",
      "metadata": {
        "id": "SNwbPIERkRZq"
      },
      "source": [
        "### 19. logistic 回归的系数与优势比的关系"
      ]
    },
    {
      "cell_type": "code",
      "execution_count": 34,
      "metadata": {
        "collapsed": true,
        "id": "8ap95lH8kRZq"
      },
      "outputs": [],
      "source": [
        "# 学习时间为 1 小时的合格率\n",
        "exp_val_1 = pd.DataFrame({\"hours\": [1]})\n",
        "pred_1 = mod_glm.predict(exp_val_1)\n",
        "\n",
        "# 学习时间为 2 小时的合格率\n",
        "exp_val_2 = pd.DataFrame({\"hours\": [2]})\n",
        "pred_2 = mod_glm.predict(exp_val_2)"
      ]
    },
    {
      "cell_type": "code",
      "execution_count": 35,
      "metadata": {
        "colab": {
          "base_uri": "https://localhost:8080/",
          "height": 115
        },
        "id": "tVvqaTbGkRZq",
        "outputId": "03f72314-6ae8-4c37-b011-1e8c3d2be68c"
      },
      "outputs": [
        {
          "output_type": "execute_result",
          "data": {
            "text/plain": [
              "0    0.92889\n",
              "dtype: float64"
            ],
            "text/html": [
              "<div>\n",
              "<style scoped>\n",
              "    .dataframe tbody tr th:only-of-type {\n",
              "        vertical-align: middle;\n",
              "    }\n",
              "\n",
              "    .dataframe tbody tr th {\n",
              "        vertical-align: top;\n",
              "    }\n",
              "\n",
              "    .dataframe thead th {\n",
              "        text-align: right;\n",
              "    }\n",
              "</style>\n",
              "<table border=\"1\" class=\"dataframe\">\n",
              "  <thead>\n",
              "    <tr style=\"text-align: right;\">\n",
              "      <th></th>\n",
              "      <th>0</th>\n",
              "    </tr>\n",
              "  </thead>\n",
              "  <tbody>\n",
              "    <tr>\n",
              "      <th>0</th>\n",
              "      <td>0.92889</td>\n",
              "    </tr>\n",
              "  </tbody>\n",
              "</table>\n",
              "</div><br><label><b>dtype:</b> float64</label>"
            ]
          },
          "metadata": {},
          "execution_count": 35
        }
      ],
      "source": [
        "# 优势\n",
        "odds_1 = pred_1 / (1 - pred_1)\n",
        "odds_2 = pred_2 / (1 - pred_2)\n",
        "\n",
        "# 对数优势比\n",
        "np.log(odds_2 / odds_1)"
      ]
    },
    {
      "cell_type": "code",
      "execution_count": 36,
      "metadata": {
        "colab": {
          "base_uri": "https://localhost:8080/"
        },
        "id": "P61f2207kRZq",
        "outputId": "c38a4f0d-dc7e-49cd-a88a-d167d9901560"
      },
      "outputs": [
        {
          "output_type": "execute_result",
          "data": {
            "text/plain": [
              "np.float64(0.9288901756284946)"
            ]
          },
          "metadata": {},
          "execution_count": 36
        }
      ],
      "source": [
        "# 系数\n",
        "mod_glm.params[\"hours\"]"
      ]
    },
    {
      "cell_type": "code",
      "execution_count": 37,
      "metadata": {
        "colab": {
          "base_uri": "https://localhost:8080/"
        },
        "id": "ASJbz-_gkRZq",
        "outputId": "98fbe614-63bf-456b-c539-e6415e270d81"
      },
      "outputs": [
        {
          "output_type": "execute_result",
          "data": {
            "text/plain": [
              "np.float64(2.5316978778757737)"
            ]
          },
          "metadata": {},
          "execution_count": 37
        }
      ],
      "source": [
        "# 补充: 系数为 e 的指数时，其结果就是优势比\n",
        "np.exp(mod_glm.params[\"hours\"])"
      ]
    },
    {
      "cell_type": "code",
      "execution_count": 37,
      "metadata": {
        "collapsed": true,
        "id": "rjV0eCmwkRZq"
      },
      "outputs": [],
      "source": []
    }
  ],
  "metadata": {
    "kernelspec": {
      "display_name": "Python 3",
      "language": "python",
      "name": "python3"
    },
    "language_info": {
      "codemirror_mode": {
        "name": "ipython",
        "version": 3
      },
      "file_extension": ".py",
      "mimetype": "text/x-python",
      "name": "python",
      "nbconvert_exporter": "python",
      "pygments_lexer": "ipython3",
      "version": "3.8.2"
    },
    "colab": {
      "provenance": []
    }
  },
  "nbformat": 4,
  "nbformat_minor": 0
}