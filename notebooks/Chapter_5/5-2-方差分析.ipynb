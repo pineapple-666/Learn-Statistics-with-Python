{
  "cells": [
    {
      "cell_type": "markdown",
      "metadata": {
        "id": "JgZ-cbqE5SGz"
      },
      "source": [
        "# 第 5 章　正态线性模型｜用 Python 动手学统计学\n",
        "\n",
        "## 第 2 节　方差分析"
      ]
    },
    {
      "cell_type": "markdown",
      "metadata": {
        "id": "q14jqzNV5SG0"
      },
      "source": [
        "### 8. 环境准备"
      ]
    },
    {
      "cell_type": "code",
      "execution_count": 1,
      "metadata": {
        "id": "V8DQiBvx5SG0"
      },
      "outputs": [],
      "source": [
        "# 用于数值计算的库\n",
        "import numpy as np\n",
        "import pandas as pd\n",
        "import scipy as sp\n",
        "from scipy import stats\n",
        "\n",
        "# 用于绘图的库\n",
        "from matplotlib import pyplot as plt\n",
        "import seaborn as sns\n",
        "sns.set()\n",
        "\n",
        "# 用于估计统计模型的库 (部分版本会报出警告信息)\n",
        "import statsmodels.formula.api as smf\n",
        "import statsmodels.api as sm\n",
        "\n",
        "# 设置浮点数打印精度\n",
        "%precision 3\n",
        "# 在 Jupyter Notebook 里显示图形\n",
        "%matplotlib inline"
      ]
    },
    {
      "cell_type": "markdown",
      "metadata": {
        "id": "0wpM5CiU5SG1"
      },
      "source": [
        "### 9. 生成数据并可视化"
      ]
    },
    {
      "cell_type": "code",
      "execution_count": 2,
      "metadata": {
        "id": "-nTAuJoM5SG1",
        "outputId": "32d3f4e6-0748-4fcf-949c-f6ed7256b8e8",
        "colab": {
          "base_uri": "https://localhost:8080/"
        }
      },
      "outputs": [
        {
          "output_type": "stream",
          "name": "stdout",
          "text": [
            "   beer weather\n",
            "0     6  cloudy\n",
            "1     8  cloudy\n",
            "2     2   rainy\n",
            "3     4   rainy\n",
            "4    10   sunny\n",
            "5    12   sunny\n"
          ]
        }
      ],
      "source": [
        "# 定义一组示例数据\n",
        "weather = [\n",
        "    \"cloudy\",\"cloudy\",\n",
        "    \"rainy\",\"rainy\",\n",
        "    \"sunny\",\"sunny\"\n",
        "]\n",
        "beer = [6,8,2,4,10,12]\n",
        "\n",
        "# 转换成数据帧\n",
        "weather_beer = pd.DataFrame({\n",
        "    \"beer\"   : beer,\n",
        "    \"weather\": weather\n",
        "})\n",
        "print(weather_beer)"
      ]
    },
    {
      "cell_type": "code",
      "execution_count": 3,
      "metadata": {
        "id": "-8tm_ytr5SG1",
        "outputId": "03a283d0-81b5-44e8-d638-1a7950a10be2",
        "colab": {
          "base_uri": "https://localhost:8080/",
          "height": 475
        }
      },
      "outputs": [
        {
          "output_type": "execute_result",
          "data": {
            "text/plain": [
              "<Axes: xlabel='weather', ylabel='beer'>"
            ]
          },
          "metadata": {},
          "execution_count": 3
        },
        {
          "output_type": "display_data",
          "data": {
            "text/plain": [
              "<Figure size 640x480 with 1 Axes>"
            ],
            "image/png": "[encoded data removed]"
          },
          "metadata": {}
        }
      ],
      "source": [
        "# 绘出箱形图\n",
        "sns.boxplot(x = \"weather\",y = \"beer\",\n",
        "            data = weather_beer, color='gray')"
      ]
    },
    {
      "cell_type": "code",
      "execution_count": 4,
      "metadata": {
        "id": "rKVK6Uwc5SG2",
        "outputId": "ed17657e-6500-4db6-91cc-936d4dc57bf8",
        "colab": {
          "base_uri": "https://localhost:8080/"
        }
      },
      "outputs": [
        {
          "output_type": "stream",
          "name": "stdout",
          "text": [
            "         beer\n",
            "weather      \n",
            "cloudy    7.0\n",
            "rainy     3.0\n",
            "sunny    11.0\n"
          ]
        }
      ],
      "source": [
        "# 每种天气下销售额的均值\n",
        "print(weather_beer.groupby(\"weather\").mean())"
      ]
    },
    {
      "cell_type": "markdown",
      "metadata": {
        "id": "7-7i-kq05SG2"
      },
      "source": [
        "### 10. 实现：方差分析①：计算组间平方和与组内平方和"
      ]
    },
    {
      "cell_type": "code",
      "execution_count": 5,
      "metadata": {
        "collapsed": true,
        "id": "ZqMjgCFM5SG2"
      },
      "outputs": [],
      "source": [
        "# 天气的影响 (对应 weather 变量)\n",
        "effect = [7,7,3,3,11,11]"
      ]
    },
    {
      "cell_type": "code",
      "execution_count": 7,
      "metadata": {
        "id": "2IPiGXTN5SG2",
        "outputId": "c781c2e2-3ee5-40a7-b539-191442c661f3",
        "colab": {
          "base_uri": "https://localhost:8080/"
        }
      },
      "outputs": [
        {
          "output_type": "execute_result",
          "data": {
            "text/plain": [
              "np.float64(64.0)"
            ]
          },
          "metadata": {},
          "execution_count": 7
        }
      ],
      "source": [
        "# 组间偏差平方和\n",
        "mu_effect = np.mean(effect)\n",
        "squares_model = np.sum((effect - mu_effect) ** 2 )\n",
        "squares_model"
      ]
    },
    {
      "cell_type": "code",
      "execution_count": 8,
      "metadata": {
        "id": "xW9msD6f5SG2",
        "colab": {
          "base_uri": "https://localhost:8080/",
          "height": 272
        },
        "outputId": "f0cc169b-f093-4203-c4b3-3237bf0c1154"
      },
      "outputs": [
        {
          "output_type": "execute_result",
          "data": {
            "text/plain": [
              "0   -1\n",
              "1    1\n",
              "2   -1\n",
              "3    1\n",
              "4   -1\n",
              "5    1\n",
              "Name: beer, dtype: int64"
            ],
            "text/html": [
              "<div>\n",
              "<style scoped>\n",
              "    .dataframe tbody tr th:only-of-type {\n",
              "        vertical-align: middle;\n",
              "    }\n",
              "\n",
              "    .dataframe tbody tr th {\n",
              "        vertical-align: top;\n",
              "    }\n",
              "\n",
              "    .dataframe thead th {\n",
              "        text-align: right;\n",
              "    }\n",
              "</style>\n",
              "<table border=\"1\" class=\"dataframe\">\n",
              "  <thead>\n",
              "    <tr style=\"text-align: right;\">\n",
              "      <th></th>\n",
              "      <th>beer</th>\n",
              "    </tr>\n",
              "  </thead>\n",
              "  <tbody>\n",
              "    <tr>\n",
              "      <th>0</th>\n",
              "      <td>-1</td>\n",
              "    </tr>\n",
              "    <tr>\n",
              "      <th>1</th>\n",
              "      <td>1</td>\n",
              "    </tr>\n",
              "    <tr>\n",
              "      <th>2</th>\n",
              "      <td>-1</td>\n",
              "    </tr>\n",
              "    <tr>\n",
              "      <th>3</th>\n",
              "      <td>1</td>\n",
              "    </tr>\n",
              "    <tr>\n",
              "      <th>4</th>\n",
              "      <td>-1</td>\n",
              "    </tr>\n",
              "    <tr>\n",
              "      <th>5</th>\n",
              "      <td>1</td>\n",
              "    </tr>\n",
              "  </tbody>\n",
              "</table>\n",
              "</div><br><label><b>dtype:</b> int64</label>"
            ]
          },
          "metadata": {},
          "execution_count": 8
        }
      ],
      "source": [
        "# 无法用天气来解释的部分, 即误差\n",
        "resid = weather_beer.beer - effect\n",
        "resid"
      ]
    },
    {
      "cell_type": "code",
      "execution_count": 10,
      "metadata": {
        "id": "yXL7GO-m5SG2",
        "colab": {
          "base_uri": "https://localhost:8080/"
        },
        "outputId": "c2af3bfe-d36b-4d06-ccff-dfbf4b3db559"
      },
      "outputs": [
        {
          "output_type": "execute_result",
          "data": {
            "text/plain": [
              "np.int64(6)"
            ]
          },
          "metadata": {},
          "execution_count": 10
        }
      ],
      "source": [
        "# 组内偏差平方和\n",
        "squares_resid = np.sum(resid ** 2)\n",
        "squares_resid"
      ]
    },
    {
      "cell_type": "markdown",
      "metadata": {
        "id": "JHX675R15SG3"
      },
      "source": [
        "### 11. 实现：方差分析②：计算组间方差与组内方差"
      ]
    },
    {
      "cell_type": "code",
      "execution_count": 11,
      "metadata": {
        "collapsed": true,
        "id": "EuLv_5Bu5SG3"
      },
      "outputs": [],
      "source": [
        "df_model = 2 # 组间差异的自由度\n",
        "df_resid = 3 # 组内差异的自由度"
      ]
    },
    {
      "cell_type": "code",
      "execution_count": 12,
      "metadata": {
        "id": "hZ2hRt7i5SG3",
        "colab": {
          "base_uri": "https://localhost:8080/"
        },
        "outputId": "6b32fa23-0c43-4799-c6ac-0d23f4c43a1a"
      },
      "outputs": [
        {
          "output_type": "execute_result",
          "data": {
            "text/plain": [
              "np.float64(32.0)"
            ]
          },
          "metadata": {},
          "execution_count": 12
        }
      ],
      "source": [
        "# 组间均方 (方差)\n",
        "variance_model = squares_model / df_model\n",
        "variance_model"
      ]
    },
    {
      "cell_type": "code",
      "execution_count": 13,
      "metadata": {
        "id": "D2XaSuUR5SG3",
        "colab": {
          "base_uri": "https://localhost:8080/"
        },
        "outputId": "5f7a9b5c-3aef-4482-a460-d7e404b57b15"
      },
      "outputs": [
        {
          "output_type": "execute_result",
          "data": {
            "text/plain": [
              "np.float64(2.0)"
            ]
          },
          "metadata": {},
          "execution_count": 13
        }
      ],
      "source": [
        "# 组内均方 (方差)\n",
        "variance_resid = squares_resid / df_resid\n",
        "variance_resid"
      ]
    },
    {
      "cell_type": "markdown",
      "metadata": {
        "id": "fFXm-ihC5SG3"
      },
      "source": [
        "### 12. 实现：方差分析③：计算 p 值"
      ]
    },
    {
      "cell_type": "code",
      "execution_count": 14,
      "metadata": {
        "id": "ytULAPNd5SG3",
        "colab": {
          "base_uri": "https://localhost:8080/"
        },
        "outputId": "5d431618-4330-4e0a-cd60-f980bf301721"
      },
      "outputs": [
        {
          "output_type": "execute_result",
          "data": {
            "text/plain": [
              "np.float64(16.0)"
            ]
          },
          "metadata": {},
          "execution_count": 14
        }
      ],
      "source": [
        "# F 比\n",
        "f_ratio = variance_model / variance_resid\n",
        "f_ratio"
      ]
    },
    {
      "cell_type": "code",
      "execution_count": 15,
      "metadata": {
        "id": "41t1yEZh5SG3",
        "colab": {
          "base_uri": "https://localhost:8080/"
        },
        "outputId": "bda1eb89-c6de-4116-dc64-c571ac713971"
      },
      "outputs": [
        {
          "output_type": "execute_result",
          "data": {
            "text/plain": [
              "np.float64(0.02509457330439091)"
            ]
          },
          "metadata": {},
          "execution_count": 15
        }
      ],
      "source": [
        "# p 值\n",
        "1 - sp.stats.f.cdf(x=f_ratio,dfn=df_model,dfd=df_resid)"
      ]
    },
    {
      "cell_type": "markdown",
      "metadata": {
        "id": "bHgAR_EY5SG4"
      },
      "source": [
        "### 15. 实现：statsmodels 中的方差分析"
      ]
    },
    {
      "cell_type": "code",
      "execution_count": 16,
      "metadata": {
        "collapsed": true,
        "id": "coic47m05SG4"
      },
      "outputs": [],
      "source": [
        "# 建立正态线性模型\n",
        "anova_model = smf.ols(\"beer ~ weather\",\n",
        "                      data = weather_beer).fit()"
      ]
    },
    {
      "cell_type": "code",
      "execution_count": 17,
      "metadata": {
        "id": "L1ogT0Wy5SG4",
        "colab": {
          "base_uri": "https://localhost:8080/"
        },
        "outputId": "f440a4fb-afd9-49c0-c961-73d760674673"
      },
      "outputs": [
        {
          "output_type": "stream",
          "name": "stdout",
          "text": [
            "          sum_sq   df     F    PR(>F)\n",
            "weather     64.0  2.0  16.0  0.025095\n",
            "Residual     6.0  3.0   NaN       NaN\n"
          ]
        }
      ],
      "source": [
        "# 方差分析的结果\n",
        "print(sm.stats.anova_lm(anova_model, typ=2))"
      ]
    },
    {
      "cell_type": "markdown",
      "metadata": {
        "id": "40kD3-5O5SG4"
      },
      "source": [
        "### 17. 模型系数的含义"
      ]
    },
    {
      "cell_type": "code",
      "execution_count": 18,
      "metadata": {
        "id": "Hz5JGCJ95SG4",
        "colab": {
          "base_uri": "https://localhost:8080/",
          "height": 178
        },
        "outputId": "f5248e1e-ee2e-4afe-cde9-9b0eb242512c"
      },
      "outputs": [
        {
          "output_type": "execute_result",
          "data": {
            "text/plain": [
              "Intercept           7.0\n",
              "weather[T.rainy]   -4.0\n",
              "weather[T.sunny]    4.0\n",
              "dtype: float64"
            ],
            "text/html": [
              "<div>\n",
              "<style scoped>\n",
              "    .dataframe tbody tr th:only-of-type {\n",
              "        vertical-align: middle;\n",
              "    }\n",
              "\n",
              "    .dataframe tbody tr th {\n",
              "        vertical-align: top;\n",
              "    }\n",
              "\n",
              "    .dataframe thead th {\n",
              "        text-align: right;\n",
              "    }\n",
              "</style>\n",
              "<table border=\"1\" class=\"dataframe\">\n",
              "  <thead>\n",
              "    <tr style=\"text-align: right;\">\n",
              "      <th></th>\n",
              "      <th>0</th>\n",
              "    </tr>\n",
              "  </thead>\n",
              "  <tbody>\n",
              "    <tr>\n",
              "      <th>Intercept</th>\n",
              "      <td>7.0</td>\n",
              "    </tr>\n",
              "    <tr>\n",
              "      <th>weather[T.rainy]</th>\n",
              "      <td>-4.0</td>\n",
              "    </tr>\n",
              "    <tr>\n",
              "      <th>weather[T.sunny]</th>\n",
              "      <td>4.0</td>\n",
              "    </tr>\n",
              "  </tbody>\n",
              "</table>\n",
              "</div><br><label><b>dtype:</b> float64</label>"
            ]
          },
          "metadata": {},
          "execution_count": 18
        }
      ],
      "source": [
        "anova_model.params"
      ]
    },
    {
      "cell_type": "markdown",
      "metadata": {
        "id": "K2TlANYX5SG4"
      },
      "source": [
        "### 18. 使用模型分离效应和误差"
      ]
    },
    {
      "cell_type": "code",
      "execution_count": 19,
      "metadata": {
        "id": "W8gbxau05SG4",
        "colab": {
          "base_uri": "https://localhost:8080/",
          "height": 272
        },
        "outputId": "3094bfbb-9720-47da-81ba-23806851616a"
      },
      "outputs": [
        {
          "output_type": "execute_result",
          "data": {
            "text/plain": [
              "0     7.0\n",
              "1     7.0\n",
              "2     3.0\n",
              "3     3.0\n",
              "4    11.0\n",
              "5    11.0\n",
              "dtype: float64"
            ],
            "text/html": [
              "<div>\n",
              "<style scoped>\n",
              "    .dataframe tbody tr th:only-of-type {\n",
              "        vertical-align: middle;\n",
              "    }\n",
              "\n",
              "    .dataframe tbody tr th {\n",
              "        vertical-align: top;\n",
              "    }\n",
              "\n",
              "    .dataframe thead th {\n",
              "        text-align: right;\n",
              "    }\n",
              "</style>\n",
              "<table border=\"1\" class=\"dataframe\">\n",
              "  <thead>\n",
              "    <tr style=\"text-align: right;\">\n",
              "      <th></th>\n",
              "      <th>0</th>\n",
              "    </tr>\n",
              "  </thead>\n",
              "  <tbody>\n",
              "    <tr>\n",
              "      <th>0</th>\n",
              "      <td>7.0</td>\n",
              "    </tr>\n",
              "    <tr>\n",
              "      <th>1</th>\n",
              "      <td>7.0</td>\n",
              "    </tr>\n",
              "    <tr>\n",
              "      <th>2</th>\n",
              "      <td>3.0</td>\n",
              "    </tr>\n",
              "    <tr>\n",
              "      <th>3</th>\n",
              "      <td>3.0</td>\n",
              "    </tr>\n",
              "    <tr>\n",
              "      <th>4</th>\n",
              "      <td>11.0</td>\n",
              "    </tr>\n",
              "    <tr>\n",
              "      <th>5</th>\n",
              "      <td>11.0</td>\n",
              "    </tr>\n",
              "  </tbody>\n",
              "</table>\n",
              "</div><br><label><b>dtype:</b> float64</label>"
            ]
          },
          "metadata": {},
          "execution_count": 19
        }
      ],
      "source": [
        "# 拟合值\n",
        "fitted = anova_model.fittedvalues\n",
        "fitted"
      ]
    },
    {
      "cell_type": "code",
      "execution_count": 20,
      "metadata": {
        "id": "4RHCD37N5SG4",
        "colab": {
          "base_uri": "https://localhost:8080/",
          "height": 272
        },
        "outputId": "e47b3691-b900-446a-b431-e2ee8aa74beb"
      },
      "outputs": [
        {
          "output_type": "execute_result",
          "data": {
            "text/plain": [
              "0   -1.0\n",
              "1    1.0\n",
              "2   -1.0\n",
              "3    1.0\n",
              "4   -1.0\n",
              "5    1.0\n",
              "dtype: float64"
            ],
            "text/html": [
              "<div>\n",
              "<style scoped>\n",
              "    .dataframe tbody tr th:only-of-type {\n",
              "        vertical-align: middle;\n",
              "    }\n",
              "\n",
              "    .dataframe tbody tr th {\n",
              "        vertical-align: top;\n",
              "    }\n",
              "\n",
              "    .dataframe thead th {\n",
              "        text-align: right;\n",
              "    }\n",
              "</style>\n",
              "<table border=\"1\" class=\"dataframe\">\n",
              "  <thead>\n",
              "    <tr style=\"text-align: right;\">\n",
              "      <th></th>\n",
              "      <th>0</th>\n",
              "    </tr>\n",
              "  </thead>\n",
              "  <tbody>\n",
              "    <tr>\n",
              "      <th>0</th>\n",
              "      <td>-1.0</td>\n",
              "    </tr>\n",
              "    <tr>\n",
              "      <th>1</th>\n",
              "      <td>1.0</td>\n",
              "    </tr>\n",
              "    <tr>\n",
              "      <th>2</th>\n",
              "      <td>-1.0</td>\n",
              "    </tr>\n",
              "    <tr>\n",
              "      <th>3</th>\n",
              "      <td>1.0</td>\n",
              "    </tr>\n",
              "    <tr>\n",
              "      <th>4</th>\n",
              "      <td>-1.0</td>\n",
              "    </tr>\n",
              "    <tr>\n",
              "      <th>5</th>\n",
              "      <td>1.0</td>\n",
              "    </tr>\n",
              "  </tbody>\n",
              "</table>\n",
              "</div><br><label><b>dtype:</b> float64</label>"
            ]
          },
          "metadata": {},
          "execution_count": 20
        }
      ],
      "source": [
        "# 残差\n",
        "anova_model.resid"
      ]
    },
    {
      "cell_type": "markdown",
      "metadata": {
        "collapsed": true,
        "id": "3eg0pJhO5SG5"
      },
      "source": [
        "### 19. 回归模型中的方差分析"
      ]
    },
    {
      "cell_type": "code",
      "execution_count": 24,
      "metadata": {
        "collapsed": true,
        "id": "hmsNWI9Q5SG5"
      },
      "outputs": [],
      "source": [
        "# 读取数据\n",
        "url = \"https://raw.github.com/pineapple-666/Learn-Statistics-with-Python/main/data/5-1-1-beer.csv\"\n",
        "beer = pd.read_csv(url)\n",
        "\n",
        "# 估计模型\n",
        "lm_model = smf.ols(formula = \"beer ~ temperature\",\n",
        "                   data = beer).fit()"
      ]
    },
    {
      "cell_type": "code",
      "execution_count": 25,
      "metadata": {
        "collapsed": true,
        "id": "aghHKaeA5SG5"
      },
      "outputs": [],
      "source": [
        "df_lm_model = 1  # 模型自由度\n",
        "df_lm_resid = 28 # 残差自由度"
      ]
    },
    {
      "cell_type": "code",
      "execution_count": 27,
      "metadata": {
        "id": "2TrZKVKX5SG5",
        "colab": {
          "base_uri": "https://localhost:8080/"
        },
        "outputId": "baeebc00-ee44-41c1-c19f-0ab3e8c29706"
      },
      "outputs": [
        {
          "output_type": "execute_result",
          "data": {
            "text/plain": [
              "np.float64(28.44698368850464)"
            ]
          },
          "metadata": {},
          "execution_count": 27
        }
      ],
      "source": [
        "# 拟合值\n",
        "lm_effect = lm_model.fittedvalues\n",
        "# 残差\n",
        "lm_resid = lm_model.resid\n",
        "# 气温的影响力度\n",
        "mu = np.mean(lm_effect)\n",
        "squares_lm_model = np.sum((lm_effect - mu) ** 2)\n",
        "variance_lm_model = squares_lm_model / df_lm_model\n",
        "# 残差的方差\n",
        "squares_lm_resid = np.sum((lm_resid) ** 2)\n",
        "variance_lm_resid = squares_lm_resid / df_lm_resid\n",
        "# F 比\n",
        "f_value_lm = variance_lm_model / variance_lm_resid\n",
        "f_value_lm"
      ]
    },
    {
      "cell_type": "code",
      "execution_count": 28,
      "metadata": {
        "id": "Ta7B72UB5SG5",
        "colab": {
          "base_uri": "https://localhost:8080/"
        },
        "outputId": "5f8bcffa-e1a3-4f66-cd8a-cb5c9e5b93e6"
      },
      "outputs": [
        {
          "output_type": "execute_result",
          "data": {
            "text/plain": [
              "np.float64(1.1148907825053733e-05)"
            ]
          },
          "metadata": {},
          "execution_count": 28
        }
      ],
      "source": [
        "# 参考: p 值 (结果在截断后约等于 0)\n",
        "1 - sp.stats.f.cdf(\n",
        "    x=f_value_lm,dfn=df_lm_model,dfd=df_lm_resid)"
      ]
    },
    {
      "cell_type": "code",
      "execution_count": 29,
      "metadata": {
        "id": "m0RIEMr95SG5",
        "colab": {
          "base_uri": "https://localhost:8080/"
        },
        "outputId": "2e629606-840a-429e-d841-a10d90a4e0c9"
      },
      "outputs": [
        {
          "output_type": "stream",
          "name": "stdout",
          "text": [
            "                  sum_sq    df          F    PR(>F)\n",
            "temperature  1651.532489   1.0  28.446984  0.000011\n",
            "Residual     1625.582178  28.0        NaN       NaN\n"
          ]
        }
      ],
      "source": [
        "# 方差分析表\n",
        "print(sm.stats.anova_lm(lm_model, typ=2))"
      ]
    },
    {
      "cell_type": "code",
      "execution_count": 30,
      "metadata": {
        "id": "7485M1Zc5SG5",
        "colab": {
          "base_uri": "https://localhost:8080/",
          "height": 452
        },
        "outputId": "c8ca87db-3970-48a5-e71e-5f8ede10771a"
      },
      "outputs": [
        {
          "output_type": "execute_result",
          "data": {
            "text/plain": [
              "<class 'statsmodels.iolib.summary.Summary'>\n",
              "\"\"\"\n",
              "                            OLS Regression Results                            \n",
              "==============================================================================\n",
              "Dep. Variable:                   beer   R-squared:                       0.504\n",
              "Model:                            OLS   Adj. R-squared:                  0.486\n",
              "Method:                 Least Squares   F-statistic:                     28.45\n",
              "Date:                Thu, 23 Oct 2025   Prob (F-statistic):           1.11e-05\n",
              "Time:                        14:47:39   Log-Likelihood:                -102.45\n",
              "No. Observations:                  30   AIC:                             208.9\n",
              "Df Residuals:                      28   BIC:                             211.7\n",
              "Df Model:                           1                                         \n",
              "Covariance Type:            nonrobust                                         \n",
              "===============================================================================\n",
              "                  coef    std err          t      P>|t|      [0.025      0.975]\n",
              "-------------------------------------------------------------------------------\n",
              "Intercept      34.6102      3.235     10.699      0.000      27.984      41.237\n",
              "temperature     0.7654      0.144      5.334      0.000       0.471       1.059\n",
              "==============================================================================\n",
              "Omnibus:                        0.587   Durbin-Watson:                   1.960\n",
              "Prob(Omnibus):                  0.746   Jarque-Bera (JB):                0.290\n",
              "Skew:                          -0.240   Prob(JB):                        0.865\n",
              "Kurtosis:                       2.951   Cond. No.                         52.5\n",
              "==============================================================================\n",
              "\n",
              "Notes:\n",
              "[1] Standard Errors assume that the covariance matrix of the errors is correctly specified.\n",
              "\"\"\""
            ],
            "text/html": [
              "<table class=\"simpletable\">\n",
              "<caption>OLS Regression Results</caption>\n",
              "<tr>\n",
              "  <th>Dep. Variable:</th>          <td>beer</td>       <th>  R-squared:         </th> <td>   0.504</td>\n",
              "</tr>\n",
              "<tr>\n",
              "  <th>Model:</th>                   <td>OLS</td>       <th>  Adj. R-squared:    </th> <td>   0.486</td>\n",
              "</tr>\n",
              "<tr>\n",
              "  <th>Method:</th>             <td>Least Squares</td>  <th>  F-statistic:       </th> <td>   28.45</td>\n",
              "</tr>\n",
              "<tr>\n",
              "  <th>Date:</th>             <td>Thu, 23 Oct 2025</td> <th>  Prob (F-statistic):</th> <td>1.11e-05</td>\n",
              "</tr>\n",
              "<tr>\n",
              "  <th>Time:</th>                 <td>14:47:39</td>     <th>  Log-Likelihood:    </th> <td> -102.45</td>\n",
              "</tr>\n",
              "<tr>\n",
              "  <th>No. Observations:</th>      <td>    30</td>      <th>  AIC:               </th> <td>   208.9</td>\n",
              "</tr>\n",
              "<tr>\n",
              "  <th>Df Residuals:</th>          <td>    28</td>      <th>  BIC:               </th> <td>   211.7</td>\n",
              "</tr>\n",
              "<tr>\n",
              "  <th>Df Model:</th>              <td>     1</td>      <th>                     </th>     <td> </td>   \n",
              "</tr>\n",
              "<tr>\n",
              "  <th>Covariance Type:</th>      <td>nonrobust</td>    <th>                     </th>     <td> </td>   \n",
              "</tr>\n",
              "</table>\n",
              "<table class=\"simpletable\">\n",
              "<tr>\n",
              "       <td></td>          <th>coef</th>     <th>std err</th>      <th>t</th>      <th>P>|t|</th>  <th>[0.025</th>    <th>0.975]</th>  \n",
              "</tr>\n",
              "<tr>\n",
              "  <th>Intercept</th>   <td>   34.6102</td> <td>    3.235</td> <td>   10.699</td> <td> 0.000</td> <td>   27.984</td> <td>   41.237</td>\n",
              "</tr>\n",
              "<tr>\n",
              "  <th>temperature</th> <td>    0.7654</td> <td>    0.144</td> <td>    5.334</td> <td> 0.000</td> <td>    0.471</td> <td>    1.059</td>\n",
              "</tr>\n",
              "</table>\n",
              "<table class=\"simpletable\">\n",
              "<tr>\n",
              "  <th>Omnibus:</th>       <td> 0.587</td> <th>  Durbin-Watson:     </th> <td>   1.960</td>\n",
              "</tr>\n",
              "<tr>\n",
              "  <th>Prob(Omnibus):</th> <td> 0.746</td> <th>  Jarque-Bera (JB):  </th> <td>   0.290</td>\n",
              "</tr>\n",
              "<tr>\n",
              "  <th>Skew:</th>          <td>-0.240</td> <th>  Prob(JB):          </th> <td>   0.865</td>\n",
              "</tr>\n",
              "<tr>\n",
              "  <th>Kurtosis:</th>      <td> 2.951</td> <th>  Cond. No.          </th> <td>    52.5</td>\n",
              "</tr>\n",
              "</table><br/><br/>Notes:<br/>[1] Standard Errors assume that the covariance matrix of the errors is correctly specified."
            ],
            "text/latex": "\\begin{center}\n\\begin{tabular}{lclc}\n\\toprule\n\\textbf{Dep. Variable:}    &       beer       & \\textbf{  R-squared:         } &     0.504   \\\\\n\\textbf{Model:}            &       OLS        & \\textbf{  Adj. R-squared:    } &     0.486   \\\\\n\\textbf{Method:}           &  Least Squares   & \\textbf{  F-statistic:       } &     28.45   \\\\\n\\textbf{Date:}             & Thu, 23 Oct 2025 & \\textbf{  Prob (F-statistic):} &  1.11e-05   \\\\\n\\textbf{Time:}             &     14:47:39     & \\textbf{  Log-Likelihood:    } &   -102.45   \\\\\n\\textbf{No. Observations:} &          30      & \\textbf{  AIC:               } &     208.9   \\\\\n\\textbf{Df Residuals:}     &          28      & \\textbf{  BIC:               } &     211.7   \\\\\n\\textbf{Df Model:}         &           1      & \\textbf{                     } &             \\\\\n\\textbf{Covariance Type:}  &    nonrobust     & \\textbf{                     } &             \\\\\n\\bottomrule\n\\end{tabular}\n\\begin{tabular}{lcccccc}\n                     & \\textbf{coef} & \\textbf{std err} & \\textbf{t} & \\textbf{P$> |$t$|$} & \\textbf{[0.025} & \\textbf{0.975]}  \\\\\n\\midrule\n\\textbf{Intercept}   &      34.6102  &        3.235     &    10.699  &         0.000        &       27.984    &       41.237     \\\\\n\\textbf{temperature} &       0.7654  &        0.144     &     5.334  &         0.000        &        0.471    &        1.059     \\\\\n\\bottomrule\n\\end{tabular}\n\\begin{tabular}{lclc}\n\\textbf{Omnibus:}       &  0.587 & \\textbf{  Durbin-Watson:     } &    1.960  \\\\\n\\textbf{Prob(Omnibus):} &  0.746 & \\textbf{  Jarque-Bera (JB):  } &    0.290  \\\\\n\\textbf{Skew:}          & -0.240 & \\textbf{  Prob(JB):          } &    0.865  \\\\\n\\textbf{Kurtosis:}      &  2.951 & \\textbf{  Cond. No.          } &     52.5  \\\\\n\\bottomrule\n\\end{tabular}\n%\\caption{OLS Regression Results}\n\\end{center}\n\nNotes: \\newline\n [1] Standard Errors assume that the covariance matrix of the errors is correctly specified."
          },
          "metadata": {},
          "execution_count": 30
        }
      ],
      "source": [
        "# 模型的 sumamry\n",
        "lm_model.summary()"
      ]
    },
    {
      "cell_type": "code",
      "execution_count": null,
      "metadata": {
        "collapsed": true,
        "id": "FY1_tNFS5SG6"
      },
      "outputs": [],
      "source": []
    }
  ],
  "metadata": {
    "kernelspec": {
      "display_name": "Python 3",
      "language": "python",
      "name": "python3"
    },
    "language_info": {
      "codemirror_mode": {
        "name": "ipython",
        "version": 3
      },
      "file_extension": ".py",
      "mimetype": "text/x-python",
      "name": "python",
      "nbconvert_exporter": "python",
      "pygments_lexer": "ipython3",
      "version": "3.8.2"
    },
    "colab": {
      "provenance": []
    }
  },
  "nbformat": 4,
  "nbformat_minor": 0
}