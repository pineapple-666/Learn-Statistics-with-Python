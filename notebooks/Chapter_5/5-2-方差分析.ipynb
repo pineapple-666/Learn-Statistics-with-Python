{
  "cells": [
    {
      "cell_type": "markdown",
      "metadata": {
        "id": "JgZ-cbqE5SGz"
      },
      "source": [
        "# 第 5 章　正态线性模型｜用 Python 动手学统计学\n",
        "\n",
        "## 第 2 节　方差分析"
      ]
    },
    {
      "cell_type": "markdown",
      "metadata": {
        "id": "q14jqzNV5SG0"
      },
      "source": [
        "### 8. 环境准备"
      ]
    },
    {
      "cell_type": "code",
      "execution_count": 3,
      "metadata": {
        "id": "V8DQiBvx5SG0"
      },
      "outputs": [],
      "source": [
        "# 用于数值计算的库\n",
        "import numpy as np\n",
        "import pandas as pd\n",
        "import scipy as sp\n",
        "from scipy import stats\n",
        "\n",
        "# 用于绘图的库\n",
        "from matplotlib import pyplot as plt\n",
        "import seaborn as sns\n",
        "sns.set()\n",
        "\n",
        "# 用于估计统计模型的库 (部分版本会报出警告信息)\n",
        "import statsmodels.formula.api as smf\n",
        "import statsmodels.api as sm\n",
        "\n",
        "# 设置浮点数打印精度\n",
        "%precision 3\n",
        "# 在 Jupyter Notebook 里显示图形\n",
        "%matplotlib inline"
      ]
    },
    {
      "cell_type": "markdown",
      "metadata": {
        "id": "0wpM5CiU5SG1"
      },
      "source": [
        "### 9. 生成数据并可视化"
      ]
    },
    {
      "cell_type": "code",
      "execution_count": 4,
      "metadata": {
        "id": "-nTAuJoM5SG1",
        "outputId": "816e4e76-0a5d-43aa-d52a-dc21bb9519fa",
        "colab": {
          "base_uri": "https://localhost:8080/"
        }
      },
      "outputs": [
        {
          "output_type": "stream",
          "name": "stdout",
          "text": [
            "   beer weather\n",
            "0     6  cloudy\n",
            "1     8  cloudy\n",
            "2     2   rainy\n",
            "3     4   rainy\n",
            "4    10   sunny\n",
            "5    12   sunny\n"
          ]
        }
      ],
      "source": [
        "# 定义一组示例数据\n",
        "weather = [\n",
        "    \"cloudy\",\"cloudy\",\n",
        "    \"rainy\",\"rainy\",\n",
        "    \"sunny\",\"sunny\"\n",
        "]\n",
        "beer = [6,8,2,4,10,12]\n",
        "\n",
        "# 转换成数据帧\n",
        "weather_beer = pd.DataFrame({\n",
        "    \"beer\"   : beer,\n",
        "    \"weather\": weather\n",
        "})\n",
        "print(weather_beer)"
      ]
    },
    {
      "cell_type": "code",
      "execution_count": 5,
      "metadata": {
        "id": "-8tm_ytr5SG1",
        "outputId": "6f30e914-3ee7-4602-ea4f-d0d550602bd6",
        "colab": {
          "base_uri": "https://localhost:8080/",
          "height": 475
        }
      },
      "outputs": [
        {
          "output_type": "execute_result",
          "data": {
            "text/plain": [
              "<Axes: xlabel='weather', ylabel='beer'>"
            ]
          },
          "metadata": {},
          "execution_count": 5
        },
        {
          "output_type": "display_data",
          "data": {
            "text/plain": [
              "<Figure size 640x480 with 1 Axes>"
            ],
            "image/png": "[encoded data removed]"
          },
          "metadata": {}
        }
      ],
      "source": [
        "# 绘出箱形图\n",
        "sns.boxplot(x = \"weather\",y = \"beer\",\n",
        "            data = weather_beer, color='gray')"
      ]
    },
    {
      "cell_type": "code",
      "execution_count": 6,
      "metadata": {
        "id": "rKVK6Uwc5SG2",
        "outputId": "795c0051-9e75-428f-f2c0-6494e58cc76e",
        "colab": {
          "base_uri": "https://localhost:8080/"
        }
      },
      "outputs": [
        {
          "output_type": "stream",
          "name": "stdout",
          "text": [
            "         beer\n",
            "weather      \n",
            "cloudy    7.0\n",
            "rainy     3.0\n",
            "sunny    11.0\n"
          ]
        }
      ],
      "source": [
        "# 每种天气下销售额的均值\n",
        "print(weather_beer.groupby(\"weather\").mean())"
      ]
    },
    {
      "cell_type": "markdown",
      "metadata": {
        "id": "7-7i-kq05SG2"
      },
      "source": [
        "### 10. 实现：方差分析①：计算组间平方和与组内平方和"
      ]
    },
    {
      "cell_type": "code",
      "execution_count": 7,
      "metadata": {
        "collapsed": true,
        "id": "ZqMjgCFM5SG2"
      },
      "outputs": [],
      "source": [
        "# 天气的影响 (对应 weather 变量)\n",
        "effect = [7,7,3,3,11,11]"
      ]
    },
    {
      "cell_type": "code",
      "execution_count": 8,
      "metadata": {
        "id": "2IPiGXTN5SG2",
        "outputId": "830ec67f-365d-40d1-a2ba-36d6f625be8e",
        "colab": {
          "base_uri": "https://localhost:8080/",
          "height": 408
        }
      },
      "outputs": [
        {
          "output_type": "error",
          "ename": "AttributeError",
          "evalue": "Module 'scipy' has no attribute 'mean'",
          "traceback": [
            "\u001b[0;31m---------------------------------------------------------------------------\u001b[0m",
            "\u001b[0;31mKeyError\u001b[0m                                  Traceback (most recent call last)",
            "\u001b[0;32m/usr/local/lib/python3.12/dist-packages/scipy/__init__.py\u001b[0m in \u001b[0;36m__getattr__\u001b[0;34m(name)\u001b[0m\n\u001b[1;32m    133\u001b[0m         \u001b[0;32mtry\u001b[0m\u001b[0;34m:\u001b[0m\u001b[0;34m\u001b[0m\u001b[0;34m\u001b[0m\u001b[0m\n\u001b[0;32m--> 134\u001b[0;31m             \u001b[0;32mreturn\u001b[0m \u001b[0mglobals\u001b[0m\u001b[0;34m(\u001b[0m\u001b[0;34m)\u001b[0m\u001b[0;34m[\u001b[0m\u001b[0mname\u001b[0m\u001b[0;34m]\u001b[0m\u001b[0;34m\u001b[0m\u001b[0;34m\u001b[0m\u001b[0m\n\u001b[0m\u001b[1;32m    135\u001b[0m         \u001b[0;32mexcept\u001b[0m \u001b[0mKeyError\u001b[0m\u001b[0;34m:\u001b[0m\u001b[0;34m\u001b[0m\u001b[0;34m\u001b[0m\u001b[0m\n",
            "\u001b[0;31mKeyError\u001b[0m: 'mean'",
            "\nDuring handling of the above exception, another exception occurred:\n",
            "\u001b[0;31mAttributeError\u001b[0m                            Traceback (most recent call last)",
            "\u001b[0;32m/tmp/ipython-input-1226846975.py\u001b[0m in \u001b[0;36m<cell line: 0>\u001b[0;34m()\u001b[0m\n\u001b[1;32m      1\u001b[0m \u001b[0;31m# 组间偏差平方和\u001b[0m\u001b[0;34m\u001b[0m\u001b[0;34m\u001b[0m\u001b[0m\n\u001b[0;32m----> 2\u001b[0;31m \u001b[0mmu_effect\u001b[0m \u001b[0;34m=\u001b[0m \u001b[0msp\u001b[0m\u001b[0;34m.\u001b[0m\u001b[0mmean\u001b[0m\u001b[0;34m(\u001b[0m\u001b[0meffect\u001b[0m\u001b[0;34m)\u001b[0m\u001b[0;34m\u001b[0m\u001b[0;34m\u001b[0m\u001b[0m\n\u001b[0m\u001b[1;32m      3\u001b[0m \u001b[0msquares_model\u001b[0m \u001b[0;34m=\u001b[0m \u001b[0msp\u001b[0m\u001b[0;34m.\u001b[0m\u001b[0msum\u001b[0m\u001b[0;34m(\u001b[0m\u001b[0;34m(\u001b[0m\u001b[0meffect\u001b[0m \u001b[0;34m-\u001b[0m \u001b[0mmu_effect\u001b[0m\u001b[0;34m)\u001b[0m \u001b[0;34m**\u001b[0m \u001b[0;36m2\u001b[0m \u001b[0;34m)\u001b[0m\u001b[0;34m\u001b[0m\u001b[0;34m\u001b[0m\u001b[0m\n\u001b[1;32m      4\u001b[0m \u001b[0msquares_model\u001b[0m\u001b[0;34m\u001b[0m\u001b[0;34m\u001b[0m\u001b[0m\n",
            "\u001b[0;32m/usr/local/lib/python3.12/dist-packages/scipy/__init__.py\u001b[0m in \u001b[0;36m__getattr__\u001b[0;34m(name)\u001b[0m\n\u001b[1;32m    134\u001b[0m             \u001b[0;32mreturn\u001b[0m \u001b[0mglobals\u001b[0m\u001b[0;34m(\u001b[0m\u001b[0;34m)\u001b[0m\u001b[0;34m[\u001b[0m\u001b[0mname\u001b[0m\u001b[0;34m]\u001b[0m\u001b[0;34m\u001b[0m\u001b[0;34m\u001b[0m\u001b[0m\n\u001b[1;32m    135\u001b[0m         \u001b[0;32mexcept\u001b[0m \u001b[0mKeyError\u001b[0m\u001b[0;34m:\u001b[0m\u001b[0;34m\u001b[0m\u001b[0;34m\u001b[0m\u001b[0m\n\u001b[0;32m--> 136\u001b[0;31m             raise AttributeError(\n\u001b[0m\u001b[1;32m    137\u001b[0m                 \u001b[0;34mf\"Module 'scipy' has no attribute '{name}'\"\u001b[0m\u001b[0;34m\u001b[0m\u001b[0;34m\u001b[0m\u001b[0m\n\u001b[1;32m    138\u001b[0m             )\n",
            "\u001b[0;31mAttributeError\u001b[0m: Module 'scipy' has no attribute 'mean'"
          ]
        }
      ],
      "source": [
        "# 组间偏差平方和\n",
        "mu_effect = sp.mean(effect)\n",
        "squares_model = sp.sum((effect - mu_effect) ** 2 )\n",
        "squares_model"
      ]
    },
    {
      "cell_type": "code",
      "execution_count": null,
      "metadata": {
        "id": "xW9msD6f5SG2"
      },
      "outputs": [],
      "source": [
        "# 无法用天气来解释的部分, 即误差\n",
        "resid = weather_beer.beer - effect\n",
        "resid"
      ]
    },
    {
      "cell_type": "code",
      "execution_count": null,
      "metadata": {
        "id": "yXL7GO-m5SG2"
      },
      "outputs": [],
      "source": [
        "# 组内偏差平方和\n",
        "squares_resid = sp.sum(resid ** 2)\n",
        "squares_resid"
      ]
    },
    {
      "cell_type": "markdown",
      "metadata": {
        "id": "JHX675R15SG3"
      },
      "source": [
        "### 11. 实现：方差分析②：计算组间方差与组内方差"
      ]
    },
    {
      "cell_type": "code",
      "execution_count": null,
      "metadata": {
        "collapsed": true,
        "id": "EuLv_5Bu5SG3"
      },
      "outputs": [],
      "source": [
        "df_model = 2 # 组间差异的自由度\n",
        "df_resid = 3 # 组内差异的自由度"
      ]
    },
    {
      "cell_type": "code",
      "execution_count": null,
      "metadata": {
        "id": "hZ2hRt7i5SG3"
      },
      "outputs": [],
      "source": [
        "# 组间均方 (方差)\n",
        "variance_model = squares_model / df_model\n",
        "variance_model"
      ]
    },
    {
      "cell_type": "code",
      "execution_count": null,
      "metadata": {
        "id": "D2XaSuUR5SG3"
      },
      "outputs": [],
      "source": [
        "# 组内均方 (方差)\n",
        "variance_resid = squares_resid / df_resid\n",
        "variance_resid"
      ]
    },
    {
      "cell_type": "markdown",
      "metadata": {
        "id": "fFXm-ihC5SG3"
      },
      "source": [
        "### 12. 实现：方差分析③：计算 p 值"
      ]
    },
    {
      "cell_type": "code",
      "execution_count": null,
      "metadata": {
        "id": "ytULAPNd5SG3"
      },
      "outputs": [],
      "source": [
        "# F 比\n",
        "f_ratio = variance_model / variance_resid\n",
        "f_ratio"
      ]
    },
    {
      "cell_type": "code",
      "execution_count": null,
      "metadata": {
        "id": "41t1yEZh5SG3"
      },
      "outputs": [],
      "source": [
        "# p 值\n",
        "1 - sp.stats.f.cdf(x=f_ratio,dfn=df_model,dfd=df_resid)"
      ]
    },
    {
      "cell_type": "markdown",
      "metadata": {
        "id": "bHgAR_EY5SG4"
      },
      "source": [
        "### 15. 实现：statsmodels 中的方差分析"
      ]
    },
    {
      "cell_type": "code",
      "execution_count": null,
      "metadata": {
        "collapsed": true,
        "id": "coic47m05SG4"
      },
      "outputs": [],
      "source": [
        "# 建立正态线性模型\n",
        "anova_model = smf.ols(\"beer ~ weather\",\n",
        "                      data = weather_beer).fit()"
      ]
    },
    {
      "cell_type": "code",
      "execution_count": null,
      "metadata": {
        "id": "L1ogT0Wy5SG4"
      },
      "outputs": [],
      "source": [
        "# 方差分析的结果\n",
        "print(sm.stats.anova_lm(anova_model, typ=2))"
      ]
    },
    {
      "cell_type": "markdown",
      "metadata": {
        "id": "40kD3-5O5SG4"
      },
      "source": [
        "### 17. 模型系数的含义"
      ]
    },
    {
      "cell_type": "code",
      "execution_count": null,
      "metadata": {
        "id": "Hz5JGCJ95SG4"
      },
      "outputs": [],
      "source": [
        "anova_model.params"
      ]
    },
    {
      "cell_type": "markdown",
      "metadata": {
        "id": "K2TlANYX5SG4"
      },
      "source": [
        "### 18. 使用模型分离效应和误差"
      ]
    },
    {
      "cell_type": "code",
      "execution_count": null,
      "metadata": {
        "id": "W8gbxau05SG4"
      },
      "outputs": [],
      "source": [
        "# 拟合值\n",
        "fitted = anova_model.fittedvalues\n",
        "fitted"
      ]
    },
    {
      "cell_type": "code",
      "execution_count": null,
      "metadata": {
        "id": "4RHCD37N5SG4"
      },
      "outputs": [],
      "source": [
        "# 残差\n",
        "anova_model.resid"
      ]
    },
    {
      "cell_type": "markdown",
      "metadata": {
        "collapsed": true,
        "id": "3eg0pJhO5SG5"
      },
      "source": [
        "### 19. 回归模型中的方差分析"
      ]
    },
    {
      "cell_type": "code",
      "execution_count": null,
      "metadata": {
        "collapsed": true,
        "id": "hmsNWI9Q5SG5"
      },
      "outputs": [],
      "source": [
        "# 读取数据\n",
        "beer = pd.read_csv(\"5-1-1-beer.csv\")\n",
        "\n",
        "# 估计模型\n",
        "lm_model = smf.ols(formula = \"beer ~ temperature\",\n",
        "                   data = beer).fit()"
      ]
    },
    {
      "cell_type": "code",
      "execution_count": null,
      "metadata": {
        "collapsed": true,
        "id": "aghHKaeA5SG5"
      },
      "outputs": [],
      "source": [
        "df_lm_model = 1  # 模型自由度\n",
        "df_lm_resid = 28 # 残差自由度"
      ]
    },
    {
      "cell_type": "code",
      "execution_count": null,
      "metadata": {
        "id": "2TrZKVKX5SG5"
      },
      "outputs": [],
      "source": [
        "# 拟合值\n",
        "lm_effect = lm_model.fittedvalues\n",
        "# 残差\n",
        "lm_resid = lm_model.resid\n",
        "# 气温的影响力度\n",
        "mu = sp.mean(lm_effect)\n",
        "squares_lm_model = sp.sum((lm_effect - mu) ** 2)\n",
        "variance_lm_model = squares_lm_model / df_lm_model\n",
        "# 残差的方差\n",
        "squares_lm_resid = sp.sum((lm_resid) ** 2)\n",
        "variance_lm_resid = squares_lm_resid / df_lm_resid\n",
        "# F 比\n",
        "f_value_lm = variance_lm_model / variance_lm_resid\n",
        "f_value_lm"
      ]
    },
    {
      "cell_type": "code",
      "execution_count": null,
      "metadata": {
        "id": "Ta7B72UB5SG5"
      },
      "outputs": [],
      "source": [
        "# 参考: p 值 (结果在截断后约等于 0)\n",
        "1 - sp.stats.f.cdf(\n",
        "    x=f_value_lm,dfn=df_lm_model,dfd=df_lm_resid)"
      ]
    },
    {
      "cell_type": "code",
      "execution_count": null,
      "metadata": {
        "id": "m0RIEMr95SG5"
      },
      "outputs": [],
      "source": [
        "# 方差分析表\n",
        "print(sm.stats.anova_lm(lm_model, typ=2))"
      ]
    },
    {
      "cell_type": "code",
      "execution_count": null,
      "metadata": {
        "id": "7485M1Zc5SG5"
      },
      "outputs": [],
      "source": [
        "# 模型的 sumamry\n",
        "lm_model.summary()"
      ]
    },
    {
      "cell_type": "code",
      "execution_count": null,
      "metadata": {
        "collapsed": true,
        "id": "FY1_tNFS5SG6"
      },
      "outputs": [],
      "source": []
    }
  ],
  "metadata": {
    "kernelspec": {
      "display_name": "Python 3",
      "language": "python",
      "name": "python3"
    },
    "language_info": {
      "codemirror_mode": {
        "name": "ipython",
        "version": 3
      },
      "file_extension": ".py",
      "mimetype": "text/x-python",
      "name": "python",
      "nbconvert_exporter": "python",
      "pygments_lexer": "ipython3",
      "version": "3.8.2"
    },
    "colab": {
      "provenance": []
    }
  },
  "nbformat": 4,
  "nbformat_minor": 0
}