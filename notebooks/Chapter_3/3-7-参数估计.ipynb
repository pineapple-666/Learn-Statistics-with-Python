{
  "cells": [
    {
      "cell_type": "markdown",
      "metadata": {
        "id": "o1Ob-AX67TP7"
      },
      "source": [
        "# 第 3 章　使用 Pyhton 进行数据分析｜用 Python 动手学统计学\n",
        "\n",
        "## 第 7 节　参数估计"
      ]
    },
    {
      "cell_type": "markdown",
      "metadata": {
        "id": "c-Soh8UE7TP8"
      },
      "source": [
        "### 2. 环境准备"
      ]
    },
    {
      "cell_type": "code",
      "execution_count": 18,
      "metadata": {
        "collapsed": true,
        "id": "mU0moy1M7TP8"
      },
      "outputs": [],
      "source": [
        "# 用于数值计算的库\n",
        "import numpy as np\n",
        "import pandas as pd\n",
        "import scipy as sp\n",
        "from scipy import stats\n",
        "\n",
        "# 用于绘图的库\n",
        "from matplotlib import pyplot as plt\n",
        "import seaborn as sns\n",
        "sns.set()\n",
        "\n",
        "# 设置浮点数打印精度\n",
        "%precision 3\n",
        "# 在 Jupyter Notebook 里显示图形\n",
        "%matplotlib inline"
      ]
    },
    {
      "cell_type": "code",
      "execution_count": 19,
      "metadata": {
        "colab": {
          "base_uri": "https://localhost:8080/",
          "height": 393
        },
        "id": "nR8bMC4_7TP9",
        "outputId": "982e19f4-7da9-46b4-8975-1734ecd25fd5"
      },
      "outputs": [
        {
          "output_type": "execute_result",
          "data": {
            "text/plain": [
              "0    4.352982\n",
              "1    3.735304\n",
              "2    5.944617\n",
              "3    3.798326\n",
              "4    4.087688\n",
              "5    5.265985\n",
              "6    3.272614\n",
              "7    3.526691\n",
              "8    4.150083\n",
              "9    3.736104\n",
              "Name: length, dtype: float64"
            ],
            "text/html": [
              "<div>\n",
              "<style scoped>\n",
              "    .dataframe tbody tr th:only-of-type {\n",
              "        vertical-align: middle;\n",
              "    }\n",
              "\n",
              "    .dataframe tbody tr th {\n",
              "        vertical-align: top;\n",
              "    }\n",
              "\n",
              "    .dataframe thead th {\n",
              "        text-align: right;\n",
              "    }\n",
              "</style>\n",
              "<table border=\"1\" class=\"dataframe\">\n",
              "  <thead>\n",
              "    <tr style=\"text-align: right;\">\n",
              "      <th></th>\n",
              "      <th>length</th>\n",
              "    </tr>\n",
              "  </thead>\n",
              "  <tbody>\n",
              "    <tr>\n",
              "      <th>0</th>\n",
              "      <td>4.352982</td>\n",
              "    </tr>\n",
              "    <tr>\n",
              "      <th>1</th>\n",
              "      <td>3.735304</td>\n",
              "    </tr>\n",
              "    <tr>\n",
              "      <th>2</th>\n",
              "      <td>5.944617</td>\n",
              "    </tr>\n",
              "    <tr>\n",
              "      <th>3</th>\n",
              "      <td>3.798326</td>\n",
              "    </tr>\n",
              "    <tr>\n",
              "      <th>4</th>\n",
              "      <td>4.087688</td>\n",
              "    </tr>\n",
              "    <tr>\n",
              "      <th>5</th>\n",
              "      <td>5.265985</td>\n",
              "    </tr>\n",
              "    <tr>\n",
              "      <th>6</th>\n",
              "      <td>3.272614</td>\n",
              "    </tr>\n",
              "    <tr>\n",
              "      <th>7</th>\n",
              "      <td>3.526691</td>\n",
              "    </tr>\n",
              "    <tr>\n",
              "      <th>8</th>\n",
              "      <td>4.150083</td>\n",
              "    </tr>\n",
              "    <tr>\n",
              "      <th>9</th>\n",
              "      <td>3.736104</td>\n",
              "    </tr>\n",
              "  </tbody>\n",
              "</table>\n",
              "</div><br><label><b>dtype:</b> float64</label>"
            ]
          },
          "metadata": {},
          "execution_count": 19
        }
      ],
      "source": [
        "# 读入数据\n",
        "URL = \"https://raw.githubusercontent.com/pineapple-666/Learn-Statistics-with-Python/main/data/3-7-1-fish_length.csv\"\n",
        "fish = pd.read_csv(URL)[\"length\"]\n",
        "fish"
      ]
    },
    {
      "cell_type": "markdown",
      "metadata": {
        "id": "ouyNB7al7TP9"
      },
      "source": [
        "### 4. 实现：点估计"
      ]
    },
    {
      "cell_type": "code",
      "execution_count": 20,
      "metadata": {
        "colab": {
          "base_uri": "https://localhost:8080/"
        },
        "id": "zE8Lk31b7TP9",
        "outputId": "474cf5a6-a1f2-4196-d7a5-af751b2adab5"
      },
      "outputs": [
        {
          "output_type": "execute_result",
          "data": {
            "text/plain": [
              "np.float64(4.187039324504523)"
            ]
          },
          "metadata": {},
          "execution_count": 20
        }
      ],
      "source": [
        "# 总体均值的点估计\n",
        "mu = np.mean(fish)\n",
        "mu"
      ]
    },
    {
      "cell_type": "code",
      "execution_count": 21,
      "metadata": {
        "colab": {
          "base_uri": "https://localhost:8080/"
        },
        "id": "JLPDXu5A7TP9",
        "outputId": "179e24ab-48e6-4661-89d8-03b0fdb26725"
      },
      "outputs": [
        {
          "output_type": "execute_result",
          "data": {
            "text/plain": [
              "0.680"
            ]
          },
          "metadata": {},
          "execution_count": 21
        }
      ],
      "source": [
        "# 总体方差的点估计\n",
        "sigma_2 = np.var(fish, ddof = 1)\n",
        "sigma_2"
      ]
    },
    {
      "cell_type": "markdown",
      "metadata": {
        "id": "GOBq-Z6D7TP9"
      },
      "source": [
        "### 9. 实现：区间估计"
      ]
    },
    {
      "cell_type": "code",
      "execution_count": 22,
      "metadata": {
        "colab": {
          "base_uri": "https://localhost:8080/"
        },
        "id": "D8K3rQJP7TP9",
        "outputId": "264e3bdd-d270-4063-9f1c-44bd2c1efbbd"
      },
      "outputs": [
        {
          "output_type": "execute_result",
          "data": {
            "text/plain": [
              "9"
            ]
          },
          "metadata": {},
          "execution_count": 22
        }
      ],
      "source": [
        "# 自由度\n",
        "df = len(fish) - 1\n",
        "df"
      ]
    },
    {
      "cell_type": "code",
      "execution_count": 23,
      "metadata": {
        "colab": {
          "base_uri": "https://localhost:8080/"
        },
        "id": "5O-DHO2L7TP-",
        "outputId": "5597b971-6784-46a7-a6bd-1055b9c75921"
      },
      "outputs": [
        {
          "output_type": "execute_result",
          "data": {
            "text/plain": [
              "np.float64(0.2608259396768776)"
            ]
          },
          "metadata": {},
          "execution_count": 23
        }
      ],
      "source": [
        "# 标准误差\n",
        "sigma = np.std(fish, ddof = 1)\n",
        "se = sigma / np.sqrt(len(fish))\n",
        "se"
      ]
    },
    {
      "cell_type": "code",
      "execution_count": 24,
      "metadata": {
        "colab": {
          "base_uri": "https://localhost:8080/"
        },
        "id": "IPk4odmA7TP-",
        "outputId": "04f50fab-f95c-4e63-8700-1887a6285f5c"
      },
      "outputs": [
        {
          "output_type": "execute_result",
          "data": {
            "text/plain": [
              "(np.float64(3.5970100568063232), np.float64(4.777068592202723))"
            ]
          },
          "metadata": {},
          "execution_count": 24
        }
      ],
      "source": [
        "# 区间估计\n",
        "interval = stats.t.interval(\n",
        "    confidence = 0.95, df = df, loc = mu, scale = se)\n",
        "interval"
      ]
    },
    {
      "cell_type": "code",
      "source": [
        "stats.t.interval?"
      ],
      "metadata": {
        "id": "LeYLQX8581Uv"
      },
      "execution_count": 25,
      "outputs": []
    },
    {
      "cell_type": "markdown",
      "metadata": {
        "id": "T0mQWsFk7TP-"
      },
      "source": [
        "### 10. 补充：置信区间的求解细节"
      ]
    },
    {
      "cell_type": "code",
      "execution_count": 26,
      "metadata": {
        "colab": {
          "base_uri": "https://localhost:8080/"
        },
        "id": "svRT-kF57TP-",
        "outputId": "a003aafc-942d-4ab6-a88d-d4ccd985ec0a"
      },
      "outputs": [
        {
          "output_type": "execute_result",
          "data": {
            "text/plain": [
              "np.float64(2.2621571628540993)"
            ]
          },
          "metadata": {},
          "execution_count": 26
        }
      ],
      "source": [
        "# 97.5% 分位数\n",
        "t_975 = stats.t.ppf(q = 0.975, df = df)\n",
        "t_975"
      ]
    },
    {
      "cell_type": "code",
      "execution_count": 27,
      "metadata": {
        "colab": {
          "base_uri": "https://localhost:8080/"
        },
        "id": "-GWVdyYw7TP-",
        "outputId": "e7291f3e-1612-49e8-88ec-a0c0afa2d89e"
      },
      "outputs": [
        {
          "output_type": "execute_result",
          "data": {
            "text/plain": [
              "np.float64(3.5970100568063232)"
            ]
          },
          "metadata": {},
          "execution_count": 27
        }
      ],
      "source": [
        "# 下置信界限\n",
        "lower = mu - t_975 * se\n",
        "lower"
      ]
    },
    {
      "cell_type": "code",
      "execution_count": 28,
      "metadata": {
        "colab": {
          "base_uri": "https://localhost:8080/"
        },
        "id": "84-of0ao7TP-",
        "outputId": "22470550-3f24-4b8b-b594-60ed62deb626"
      },
      "outputs": [
        {
          "output_type": "execute_result",
          "data": {
            "text/plain": [
              "np.float64(4.777068592202723)"
            ]
          },
          "metadata": {},
          "execution_count": 28
        }
      ],
      "source": [
        "# 上置信界限\n",
        "upper = mu + t_975 * se\n",
        "upper"
      ]
    },
    {
      "cell_type": "markdown",
      "metadata": {
        "id": "Mh7Tg93N7TP-"
      },
      "source": [
        "### 11. 决定置信区间大小的因素"
      ]
    },
    {
      "cell_type": "code",
      "execution_count": 31,
      "metadata": {
        "colab": {
          "base_uri": "https://localhost:8080/"
        },
        "id": "YPez896e7TP-",
        "outputId": "3b57d6c2-d642-4189-8d26-e639893cd391"
      },
      "outputs": [
        {
          "output_type": "execute_result",
          "data": {
            "text/plain": [
              "(np.float64(-1.7132533524774765), np.float64(10.087332001486523))"
            ]
          },
          "metadata": {},
          "execution_count": 31
        }
      ],
      "source": [
        "# 样本方差越大, 置信区间越大\n",
        "se2 = (sigma*10) / np.sqrt(len(fish))\n",
        "stats.t.interval(\n",
        "    confidence = 0.95, df = df, loc = mu, scale = se2)"
      ]
    },
    {
      "cell_type": "code",
      "execution_count": 34,
      "metadata": {
        "colab": {
          "base_uri": "https://localhost:8080/"
        },
        "id": "c-YH6y2d7TP-",
        "outputId": "355c3ec1-4bf0-4a35-deb3-6fc4829ef193"
      },
      "outputs": [
        {
          "output_type": "execute_result",
          "data": {
            "text/plain": [
              "(np.float64(4.0233803082774395), np.float64(4.350698340731607))"
            ]
          },
          "metadata": {},
          "execution_count": 34
        }
      ],
      "source": [
        "# 样本容量越大, 置信区间越小\n",
        "df2 = (len(fish)*10) - 1\n",
        "se3 = sigma / np.sqrt(len(fish)*10)\n",
        "stats.t.interval(\n",
        "    confidence = 0.95, df = df2, loc = mu, scale = se3)"
      ]
    },
    {
      "cell_type": "code",
      "execution_count": 36,
      "metadata": {
        "colab": {
          "base_uri": "https://localhost:8080/"
        },
        "id": "2ADYN3tN7TP_",
        "outputId": "75d5af04-e91c-4e2d-9844-b0d4ecf8549c"
      },
      "outputs": [
        {
          "output_type": "execute_result",
          "data": {
            "text/plain": [
              "(np.float64(3.339397915573443), np.float64(5.034680733435604))"
            ]
          },
          "metadata": {},
          "execution_count": 36
        }
      ],
      "source": [
        "# 99% 置信区间\n",
        "stats.t.interval(\n",
        "    confidence = 0.99, df = df, loc = mu, scale = se)"
      ]
    },
    {
      "cell_type": "markdown",
      "metadata": {
        "id": "CDyD8RPF7TP_"
      },
      "source": [
        "### 12. 区间估计结果的解读"
      ]
    },
    {
      "cell_type": "code",
      "execution_count": 37,
      "metadata": {
        "scrolled": true,
        "colab": {
          "base_uri": "https://localhost:8080/"
        },
        "id": "LBr4IodV7TP_",
        "outputId": "dac2539c-e486-4e52-a0b6-e4618daf8e26"
      },
      "outputs": [
        {
          "output_type": "execute_result",
          "data": {
            "text/plain": [
              "array([False, False, False, ..., False, False, False])"
            ]
          },
          "metadata": {},
          "execution_count": 37
        }
      ],
      "source": [
        "# 如果置信区间包含总体均值 (4) 就取 True\n",
        "be_included_array = np.zeros(20000, dtype = \"bool\")\n",
        "be_included_array"
      ]
    },
    {
      "cell_type": "code",
      "execution_count": 39,
      "metadata": {
        "collapsed": true,
        "id": "sJ-NcHJJ7TP_"
      },
      "outputs": [],
      "source": [
        "# 执行 20,000 次求 95% 置信区间的操作\n",
        "# 如果置信区间包含总体均值 (4) 就取 True\n",
        "np.random.seed(1)\n",
        "norm_dist = stats.norm(loc = 4, scale = 0.8)\n",
        "for i in range(0, 20000):\n",
        "    sample = norm_dist.rvs(size = 10)\n",
        "    df = len(sample) - 1\n",
        "    mu = np.mean(sample)\n",
        "    std = np.std(sample, ddof = 1)\n",
        "    se = std / np.sqrt(len(sample))\n",
        "    interval = stats.t.interval(0.95, df, mu, se)\n",
        "    if(interval[0] <= 4 and interval[1] >= 4):\n",
        "        be_included_array[i] = True"
      ]
    },
    {
      "cell_type": "code",
      "execution_count": 40,
      "metadata": {
        "colab": {
          "base_uri": "https://localhost:8080/"
        },
        "id": "2FHD60rs7TP_",
        "outputId": "c5881891-a779-438e-a83b-ff6c5b419e55"
      },
      "outputs": [
        {
          "output_type": "execute_result",
          "data": {
            "text/plain": [
              "np.float64(0.948)"
            ]
          },
          "metadata": {},
          "execution_count": 40
        }
      ],
      "source": [
        "sum(be_included_array) / len(be_included_array)"
      ]
    },
    {
      "cell_type": "code",
      "execution_count": null,
      "metadata": {
        "collapsed": true,
        "id": "cz5dM1mz7TP_"
      },
      "outputs": [],
      "source": []
    }
  ],
  "metadata": {
    "kernelspec": {
      "display_name": "Python 3",
      "language": "python",
      "name": "python3"
    },
    "language_info": {
      "codemirror_mode": {
        "name": "ipython",
        "version": 3
      },
      "file_extension": ".py",
      "mimetype": "text/x-python",
      "name": "python",
      "nbconvert_exporter": "python",
      "pygments_lexer": "ipython3",
      "version": "3.8.2"
    },
    "colab": {
      "provenance": []
    }
  },
  "nbformat": 4,
  "nbformat_minor": 0
}