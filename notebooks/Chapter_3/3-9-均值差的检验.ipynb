{
  "cells": [
    {
      "cell_type": "markdown",
      "metadata": {
        "id": "T9PlQYxtMUN4"
      },
      "source": [
        "# 第 3 章　使用 Pyhton 进行数据分析｜用 Python 动手学统计学\n",
        "\n",
        "## 第 9 节　均值差的检验"
      ]
    },
    {
      "cell_type": "markdown",
      "metadata": {
        "id": "BIY17P6fMUN6"
      },
      "source": [
        "### 3. 实现：实验准备"
      ]
    },
    {
      "cell_type": "code",
      "execution_count": 11,
      "metadata": {
        "collapsed": true,
        "id": "A2Cn7GomMUN6"
      },
      "outputs": [],
      "source": [
        "# 用于数值计算的库\n",
        "import numpy as np\n",
        "import pandas as pd\n",
        "import scipy as sp\n",
        "from scipy import stats\n",
        "\n",
        "# 用于绘图的库\n",
        "from matplotlib import pyplot as plt\n",
        "import seaborn as sns\n",
        "sns.set()\n",
        "\n",
        "# 设置浮点数打印精度\n",
        "%precision 3\n",
        "# 在 Jupyter Notebook 里显示图形\n",
        "%matplotlib inline"
      ]
    },
    {
      "cell_type": "code",
      "execution_count": 12,
      "metadata": {
        "scrolled": true,
        "colab": {
          "base_uri": "https://localhost:8080/"
        },
        "id": "0hZvgW2KMUN6",
        "outputId": "c789e61e-073f-4230-ae69-9f60d57089d7"
      },
      "outputs": [
        {
          "output_type": "stream",
          "name": "stdout",
          "text": [
            "  person medicine  body_temperature\n",
            "0      A   before              36.2\n",
            "1      B   before              36.2\n",
            "2      C   before              35.3\n",
            "3      D   before              36.1\n",
            "4      E   before              36.1\n",
            "5      A    after              36.8\n",
            "6      B    after              36.1\n",
            "7      C    after              36.8\n",
            "8      D    after              37.1\n",
            "9      E    after              36.9\n"
          ]
        }
      ],
      "source": [
        "# 读入数据\n",
        "URL = \"https://raw.github.com/pineapple-666/Learn-Statistics-with-Python/main/data/3-9-1-paired-t-test.csv\"\n",
        "paired_test_data = pd.read_csv(URL)\n",
        "print(paired_test_data)"
      ]
    },
    {
      "cell_type": "markdown",
      "metadata": {
        "id": "kwy7w18pMUN7"
      },
      "source": [
        "### 4. 实现：配对样本 t 检验"
      ]
    },
    {
      "cell_type": "code",
      "execution_count": 13,
      "metadata": {
        "colab": {
          "base_uri": "https://localhost:8080/"
        },
        "id": "HO31pZWBMUN7",
        "outputId": "050bd23e-7b39-412c-d89a-5067b69f6a3d"
      },
      "outputs": [
        {
          "output_type": "execute_result",
          "data": {
            "text/plain": [
              "array([ 0.6, -0.1,  1.5,  1. ,  0.8])"
            ]
          },
          "metadata": {},
          "execution_count": 13
        }
      ],
      "source": [
        "# 服药前后的样本均值\n",
        "before = paired_test_data.query(\n",
        "    'medicine == \"before\"')[\"body_temperature\"]\n",
        "after = paired_test_data.query(\n",
        "    'medicine == \"after\"')[\"body_temperature\"]\n",
        "# 转为数组类型\n",
        "before = np.array(before)\n",
        "after = np.array(after)\n",
        "# 计算差值\n",
        "diff = after - before\n",
        "diff"
      ]
    },
    {
      "cell_type": "code",
      "execution_count": 14,
      "metadata": {
        "colab": {
          "base_uri": "https://localhost:8080/"
        },
        "id": "dBddumjkMUN7",
        "outputId": "1a81b835-20f2-44ed-edb4-1cfb15254aad"
      },
      "outputs": [
        {
          "output_type": "execute_result",
          "data": {
            "text/plain": [
              "TtestResult(statistic=np.float64(2.901693483620596), pvalue=np.float64(0.044043109730074276), df=np.int64(4))"
            ]
          },
          "metadata": {},
          "execution_count": 14
        }
      ],
      "source": [
        "# 检验均值是否与 0 存在差异\n",
        "stats.ttest_1samp(diff, 0)"
      ]
    },
    {
      "cell_type": "code",
      "execution_count": 15,
      "metadata": {
        "colab": {
          "base_uri": "https://localhost:8080/"
        },
        "id": "Ht2_Jf12MUN7",
        "outputId": "3f1c85a1-de2f-42ea-d03e-5ee931ffcd0e"
      },
      "outputs": [
        {
          "output_type": "execute_result",
          "data": {
            "text/plain": [
              "TtestResult(statistic=np.float64(2.901693483620596), pvalue=np.float64(0.044043109730074276), df=np.int64(4))"
            ]
          },
          "metadata": {},
          "execution_count": 15
        }
      ],
      "source": [
        "# 配对样本 t 检验\n",
        "stats.ttest_rel(after, before)"
      ]
    },
    {
      "cell_type": "markdown",
      "metadata": {
        "id": "xU8Q4rCFMUN7"
      },
      "source": [
        "### 6. 实现：独立样本 t 检验"
      ]
    },
    {
      "cell_type": "code",
      "execution_count": 16,
      "metadata": {
        "colab": {
          "base_uri": "https://localhost:8080/"
        },
        "id": "rdDw9Gf3MUN7",
        "outputId": "5506bb25-5a21-4cf3-e5be-54586a4d79c0"
      },
      "outputs": [
        {
          "output_type": "execute_result",
          "data": {
            "text/plain": [
              "np.float64(3.1557282344421034)"
            ]
          },
          "metadata": {},
          "execution_count": 16
        }
      ],
      "source": [
        "# 均值\n",
        "mean_bef = np.mean(before)\n",
        "mean_aft = np.mean(after)\n",
        "\n",
        "# 方差\n",
        "sigma_bef = np.var(before, ddof = 1)\n",
        "sigma_aft = np.var(after, ddof = 1)\n",
        "\n",
        "# 样本容量\n",
        "m = len(before)\n",
        "n = len(after)\n",
        "\n",
        "# t 值\n",
        "t_value = (mean_aft - mean_bef) / \\\n",
        "    np.sqrt((sigma_bef/m + sigma_aft/n))\n",
        "t_value"
      ]
    },
    {
      "cell_type": "code",
      "execution_count": 17,
      "metadata": {
        "colab": {
          "base_uri": "https://localhost:8080/"
        },
        "id": "TNozMPetMUN7",
        "outputId": "f264efce-7ebe-4d47-e42b-f546c0e53ccd"
      },
      "outputs": [
        {
          "output_type": "execute_result",
          "data": {
            "text/plain": [
              "TtestResult(statistic=np.float64(3.1557282344421034), pvalue=np.float64(0.013484775682079892), df=np.float64(7.998478291882638))"
            ]
          },
          "metadata": {},
          "execution_count": 17
        }
      ],
      "source": [
        "stats.ttest_ind(after, before, equal_var = False)"
      ]
    },
    {
      "cell_type": "code",
      "execution_count": 17,
      "metadata": {
        "collapsed": true,
        "id": "xhjXQ1-ZMUN8"
      },
      "outputs": [],
      "source": []
    }
  ],
  "metadata": {
    "kernelspec": {
      "display_name": "Python 3",
      "language": "python",
      "name": "python3"
    },
    "language_info": {
      "codemirror_mode": {
        "name": "ipython",
        "version": 3
      },
      "file_extension": ".py",
      "mimetype": "text/x-python",
      "name": "python",
      "nbconvert_exporter": "python",
      "pygments_lexer": "ipython3",
      "version": "3.8.2"
    },
    "colab": {
      "provenance": []
    }
  },
  "nbformat": 4,
  "nbformat_minor": 0
}