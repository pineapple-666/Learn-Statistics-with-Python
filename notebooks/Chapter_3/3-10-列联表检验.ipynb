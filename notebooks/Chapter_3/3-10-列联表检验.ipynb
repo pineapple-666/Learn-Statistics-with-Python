{
  "cells": [
    {
      "cell_type": "markdown",
      "metadata": {
        "id": "NqnJ157IPl9Z"
      },
      "source": [
        "# 第 3 章　使用 Pyhton 进行数据分析｜用 Python 动手学统计学\n",
        "\n",
        "## 第 10 节　列联表检验"
      ]
    },
    {
      "cell_type": "markdown",
      "metadata": {
        "id": "Pb8ixILVPl9b"
      },
      "source": [
        "### 5. 实现：计算 p 值"
      ]
    },
    {
      "cell_type": "code",
      "execution_count": 1,
      "metadata": {
        "collapsed": true,
        "id": "5wPbS8wSPl9b"
      },
      "outputs": [],
      "source": [
        "# 用于数值计算的库\n",
        "import numpy as np\n",
        "import pandas as pd\n",
        "import scipy as sp\n",
        "from scipy import stats\n",
        "\n",
        "# 用于绘图的库\n",
        "from matplotlib import pyplot as plt\n",
        "import seaborn as sns\n",
        "sns.set()\n",
        "\n",
        "# 设置浮点数打印精度\n",
        "%precision 3\n",
        "# 在 Jupyter Notebook 里显示图形\n",
        "%matplotlib inline"
      ]
    },
    {
      "cell_type": "code",
      "execution_count": 2,
      "metadata": {
        "id": "gvNJB9FqPl9c",
        "outputId": "06737f79-1c5b-4066-f6f7-fde6692b731f",
        "colab": {
          "base_uri": "https://localhost:8080/"
        }
      },
      "outputs": [
        {
          "output_type": "execute_result",
          "data": {
            "text/plain": [
              "np.float64(0.009821437357809604)"
            ]
          },
          "metadata": {},
          "execution_count": 2
        }
      ],
      "source": [
        "# 计算 p 值\n",
        "1 - sp.stats.chi2.cdf(x = 6.667, df = 1)"
      ]
    },
    {
      "cell_type": "markdown",
      "metadata": {
        "id": "t0Z0YjGHPl9d"
      },
      "source": [
        "### 6. 实现：列联表检验"
      ]
    },
    {
      "cell_type": "code",
      "execution_count": 4,
      "metadata": {
        "scrolled": true,
        "id": "5KQl-T8KPl9d",
        "outputId": "676cfa50-42c9-4c9a-f6b5-df340b9673b8",
        "colab": {
          "base_uri": "https://localhost:8080/"
        }
      },
      "outputs": [
        {
          "output_type": "stream",
          "name": "stdout",
          "text": [
            "  color  click  freq\n",
            "0  blue  click    20\n",
            "1  blue    not   230\n",
            "2   red  click    10\n",
            "3   red    not    40\n"
          ]
        }
      ],
      "source": [
        "# 读入数据\n",
        "url = \"https://raw.github.com/pineapple-666/Learn-Statistics-with-Python/main/data/3-10-1-click_data.csv\"\n",
        "click_data = pd.read_csv(url)\n",
        "print(click_data)"
      ]
    },
    {
      "cell_type": "code",
      "execution_count": 5,
      "metadata": {
        "id": "_k85yDwnPl9d",
        "outputId": "35ba4d7e-523d-491b-80ce-8655a7638ee2",
        "colab": {
          "base_uri": "https://localhost:8080/"
        }
      },
      "outputs": [
        {
          "output_type": "stream",
          "name": "stdout",
          "text": [
            "click  click  not\n",
            "color            \n",
            "blue      20  230\n",
            "red       10   40\n"
          ]
        }
      ],
      "source": [
        "# 转换为列联表\n",
        "cross = pd.pivot_table(\n",
        "    data = click_data,\n",
        "    values = \"freq\",\n",
        "    aggfunc = \"sum\",\n",
        "    index = \"color\",\n",
        "    columns = \"click\"\n",
        ")\n",
        "print(cross)"
      ]
    },
    {
      "cell_type": "code",
      "execution_count": 6,
      "metadata": {
        "id": "zbmMTO-sPl9d",
        "outputId": "e6291410-11cd-44f8-f65b-abc0b47406b6",
        "colab": {
          "base_uri": "https://localhost:8080/"
        }
      },
      "outputs": [
        {
          "output_type": "execute_result",
          "data": {
            "text/plain": [
              "Chi2ContingencyResult(statistic=np.float64(6.666666666666666), pvalue=np.float64(0.009823274507519247), dof=1, expected_freq=array([[ 25., 225.],\n",
              "       [  5.,  45.]]))"
            ]
          },
          "metadata": {},
          "execution_count": 6
        }
      ],
      "source": [
        "# 进行检验\n",
        "sp.stats.chi2_contingency(cross, correction = False)"
      ]
    }
  ],
  "metadata": {
    "kernelspec": {
      "display_name": "Python 3",
      "language": "python",
      "name": "python3"
    },
    "language_info": {
      "codemirror_mode": {
        "name": "ipython",
        "version": 3
      },
      "file_extension": ".py",
      "mimetype": "text/x-python",
      "name": "python",
      "nbconvert_exporter": "python",
      "pygments_lexer": "ipython3",
      "version": "3.8.2"
    },
    "colab": {
      "provenance": []
    }
  },
  "nbformat": 4,
  "nbformat_minor": 0
}