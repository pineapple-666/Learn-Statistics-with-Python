{
  "cells": [
    {
      "cell_type": "markdown",
      "metadata": {
        "id": "q9CnWcyuDbx2"
      },
      "source": [
        "# 第 3 章　使用 Pyhton 进行数据分析｜用 Python 动手学统计学\n",
        "\n",
        "## 第 8 节　假设检验"
      ]
    },
    {
      "cell_type": "markdown",
      "metadata": {
        "id": "nDBYGoF-Dbx2"
      },
      "source": [
        "### 13. t 检验的实现：环境准备"
      ]
    },
    {
      "cell_type": "code",
      "execution_count": 21,
      "metadata": {
        "collapsed": true,
        "id": "-utqH3vCDbx3"
      },
      "outputs": [],
      "source": [
        "# 用于数值计算的库\n",
        "import numpy as np\n",
        "import pandas as pd\n",
        "import scipy as sp\n",
        "from scipy import stats\n",
        "\n",
        "# 用于绘图的库\n",
        "from matplotlib import pyplot as plt\n",
        "import seaborn as sns\n",
        "sns.set()\n",
        "\n",
        "# 设置浮点数打印精度\n",
        "%precision 3\n",
        "# 在 Jupyter Notebook 里显示图形\n",
        "%matplotlib inline"
      ]
    },
    {
      "cell_type": "code",
      "execution_count": 22,
      "metadata": {
        "scrolled": true,
        "colab": {
          "base_uri": "https://localhost:8080/",
          "height": 238
        },
        "id": "DqJ9k1NnDbx3",
        "outputId": "5a23566f-4d84-474d-d546-3b19855281a9"
      },
      "outputs": [
        {
          "output_type": "execute_result",
          "data": {
            "text/plain": [
              "0    58.529820\n",
              "1    52.353039\n",
              "2    74.446169\n",
              "3    52.983263\n",
              "4    55.876879\n",
              "Name: weight, dtype: float64"
            ],
            "text/html": [
              "<div>\n",
              "<style scoped>\n",
              "    .dataframe tbody tr th:only-of-type {\n",
              "        vertical-align: middle;\n",
              "    }\n",
              "\n",
              "    .dataframe tbody tr th {\n",
              "        vertical-align: top;\n",
              "    }\n",
              "\n",
              "    .dataframe thead th {\n",
              "        text-align: right;\n",
              "    }\n",
              "</style>\n",
              "<table border=\"1\" class=\"dataframe\">\n",
              "  <thead>\n",
              "    <tr style=\"text-align: right;\">\n",
              "      <th></th>\n",
              "      <th>weight</th>\n",
              "    </tr>\n",
              "  </thead>\n",
              "  <tbody>\n",
              "    <tr>\n",
              "      <th>0</th>\n",
              "      <td>58.529820</td>\n",
              "    </tr>\n",
              "    <tr>\n",
              "      <th>1</th>\n",
              "      <td>52.353039</td>\n",
              "    </tr>\n",
              "    <tr>\n",
              "      <th>2</th>\n",
              "      <td>74.446169</td>\n",
              "    </tr>\n",
              "    <tr>\n",
              "      <th>3</th>\n",
              "      <td>52.983263</td>\n",
              "    </tr>\n",
              "    <tr>\n",
              "      <th>4</th>\n",
              "      <td>55.876879</td>\n",
              "    </tr>\n",
              "  </tbody>\n",
              "</table>\n",
              "</div><br><label><b>dtype:</b> float64</label>"
            ]
          },
          "metadata": {},
          "execution_count": 22
        }
      ],
      "source": [
        "# 读入数据\n",
        "URL = \"https://raw.githubusercontent.com/pineapple-666/Learn-Statistics-with-Python/main/data/3-8-1-junk-food-weight.csv\"\n",
        "junk_food = pd.read_csv(URL)[\"weight\"]\n",
        "junk_food.head()"
      ]
    },
    {
      "cell_type": "markdown",
      "metadata": {
        "id": "WHV1k1TFDbx3"
      },
      "source": [
        "### 14. t 检验的实现：计算 t 值"
      ]
    },
    {
      "cell_type": "code",
      "execution_count": 23,
      "metadata": {
        "colab": {
          "base_uri": "https://localhost:8080/"
        },
        "id": "JgrJYYDvDbx4",
        "outputId": "76a87ff8-dd2d-4c16-e8a4-0a6c35885a79"
      },
      "outputs": [
        {
          "output_type": "execute_result",
          "data": {
            "text/plain": [
              "np.float64(55.38496619666667)"
            ]
          },
          "metadata": {},
          "execution_count": 23
        }
      ],
      "source": [
        "# 样本均值\n",
        "mu = np.mean(junk_food)\n",
        "mu"
      ]
    },
    {
      "cell_type": "code",
      "execution_count": 24,
      "metadata": {
        "colab": {
          "base_uri": "https://localhost:8080/"
        },
        "id": "aNnZ_rY4Dbx4",
        "outputId": "a3d3d31d-2b00-4766-946b-558f35f01a71"
      },
      "outputs": [
        {
          "output_type": "execute_result",
          "data": {
            "text/plain": [
              "19"
            ]
          },
          "metadata": {},
          "execution_count": 24
        }
      ],
      "source": [
        "# 自由度\n",
        "df = len(junk_food) - 1\n",
        "df"
      ]
    },
    {
      "cell_type": "code",
      "execution_count": 25,
      "metadata": {
        "colab": {
          "base_uri": "https://localhost:8080/"
        },
        "id": "3gF2wHKhDbx4",
        "outputId": "a9f4c5d1-6320-4edb-a864-44bd53f72c01"
      },
      "outputs": [
        {
          "output_type": "execute_result",
          "data": {
            "text/plain": [
              "np.float64(1.9579276805755885)"
            ]
          },
          "metadata": {},
          "execution_count": 25
        }
      ],
      "source": [
        "# 标准误差\n",
        "sigma = np.std(junk_food, ddof = 1)\n",
        "se = sigma / np.sqrt(len(junk_food))\n",
        "se"
      ]
    },
    {
      "cell_type": "code",
      "execution_count": 26,
      "metadata": {
        "colab": {
          "base_uri": "https://localhost:8080/"
        },
        "id": "9B4urV_5Dbx4",
        "outputId": "8f1dadac-f007-416f-894d-ba1282ce6745"
      },
      "outputs": [
        {
          "output_type": "execute_result",
          "data": {
            "text/plain": [
              "np.float64(2.7503396831713434)"
            ]
          },
          "metadata": {},
          "execution_count": 26
        }
      ],
      "source": [
        "# t 值\n",
        "t_value = (mu - 50) / se\n",
        "t_value"
      ]
    },
    {
      "cell_type": "markdown",
      "metadata": {
        "id": "w7_h-wxiDbx4"
      },
      "source": [
        "### 15. t 检验的实现：计算 p 值"
      ]
    },
    {
      "cell_type": "code",
      "execution_count": 27,
      "metadata": {
        "colab": {
          "base_uri": "https://localhost:8080/"
        },
        "id": "LfBQ2ARKDbx4",
        "outputId": "2e3d872a-3251-44ab-83a6-cc36f6fc7fd5"
      },
      "outputs": [
        {
          "output_type": "execute_result",
          "data": {
            "text/plain": [
              "np.float64(0.012725590012524268)"
            ]
          },
          "metadata": {},
          "execution_count": 27
        }
      ],
      "source": [
        "# p 值\n",
        "alpha = stats.t.cdf(t_value, df = df)\n",
        "(1 - alpha) * 2"
      ]
    },
    {
      "cell_type": "code",
      "source": [
        "stats.ttest_1samp?"
      ],
      "metadata": {
        "id": "Lxrtn7GbGKWs"
      },
      "execution_count": 33,
      "outputs": []
    },
    {
      "cell_type": "code",
      "execution_count": 28,
      "metadata": {
        "colab": {
          "base_uri": "https://localhost:8080/"
        },
        "id": "Dz0wNWv0Dbx4",
        "outputId": "ae268505-0c7a-47ca-bd29-5aed0f148bce"
      },
      "outputs": [
        {
          "output_type": "execute_result",
          "data": {
            "text/plain": [
              "TtestResult(statistic=np.float64(2.7503396831713434), pvalue=np.float64(0.012725590012524155), df=np.int64(19))"
            ]
          },
          "metadata": {},
          "execution_count": 28
        }
      ],
      "source": [
        "# t 检验\n",
        "stats.ttest_1samp(junk_food, 50)"
      ]
    },
    {
      "cell_type": "markdown",
      "metadata": {
        "collapsed": true,
        "id": "n8DfA0PtDbx4"
      },
      "source": [
        "### 16. 通过模拟实验计算 p 值"
      ]
    },
    {
      "cell_type": "code",
      "execution_count": 29,
      "metadata": {
        "collapsed": true,
        "id": "AEwb_B7-Dbx5"
      },
      "outputs": [],
      "source": [
        "# 样本的相关信息 (一部分)\n",
        "size = len(junk_food)\n",
        "sigma = np.std(junk_food, ddof = 1)"
      ]
    },
    {
      "cell_type": "code",
      "execution_count": 30,
      "metadata": {
        "collapsed": true,
        "id": "AIIA1gtuDbx5"
      },
      "outputs": [],
      "source": [
        "# 存放 t 值的窗口\n",
        "t_value_array = np.zeros(50000)"
      ]
    },
    {
      "cell_type": "code",
      "execution_count": 31,
      "metadata": {
        "collapsed": true,
        "id": "I98SFUfKDbx5"
      },
      "outputs": [],
      "source": [
        "# 总体均值为 50, 以接受零假设为前提进行 50,000 次抽样并计算 t 值的实验\n",
        "np.random.seed(1)\n",
        "norm_dist = stats.norm(loc = 50, scale = sigma)\n",
        "for i in range(0, 50000):\n",
        "    sample = norm_dist.rvs(size = size)\n",
        "    sample_mean = np.mean(sample)\n",
        "    sample_std = np.std(sample, ddof = 1)\n",
        "    sample_se = sample_std / np.sqrt(size)\n",
        "    t_value_array[i] = (sample_mean - 50) / sample_se"
      ]
    },
    {
      "cell_type": "code",
      "execution_count": 32,
      "metadata": {
        "colab": {
          "base_uri": "https://localhost:8080/"
        },
        "id": "kQ2v7EsLDbx5",
        "outputId": "f91936b9-83c3-442c-f9bd-f7165e3cc58f"
      },
      "outputs": [
        {
          "output_type": "execute_result",
          "data": {
            "text/plain": [
              "np.float64(0.01324)"
            ]
          },
          "metadata": {},
          "execution_count": 32
        }
      ],
      "source": [
        "(sum(t_value_array > t_value) / 50000) * 2"
      ]
    },
    {
      "cell_type": "code",
      "execution_count": 32,
      "metadata": {
        "collapsed": true,
        "id": "xDppMmg-Dbx5"
      },
      "outputs": [],
      "source": []
    }
  ],
  "metadata": {
    "kernelspec": {
      "display_name": "Python 3",
      "language": "python",
      "name": "python3"
    },
    "language_info": {
      "codemirror_mode": {
        "name": "ipython",
        "version": 3
      },
      "file_extension": ".py",
      "mimetype": "text/x-python",
      "name": "python",
      "nbconvert_exporter": "python",
      "pygments_lexer": "ipython3",
      "version": "3.8.2"
    },
    "colab": {
      "provenance": []
    }
  },
  "nbformat": 4,
  "nbformat_minor": 0
}