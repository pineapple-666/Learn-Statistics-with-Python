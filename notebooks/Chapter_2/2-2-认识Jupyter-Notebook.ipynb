{
  "cells": [
    {
      "cell_type": "markdown",
      "metadata": {
        "id": "xvg_J6Y31h1y"
      },
      "source": [
        "# 第 2 章　Python 与 Jupyter Notebook 基础｜用 Python 动手学统计学\n",
        "\n",
        "## 第 2 节　认识 Jupyter Notebook"
      ]
    },
    {
      "cell_type": "markdown",
      "metadata": {
        "id": "S-6zhFA11h1z"
      },
      "source": [
        "### 3. 执行代码"
      ]
    },
    {
      "cell_type": "code",
      "execution_count": 1,
      "metadata": {
        "collapsed": true,
        "id": "wXjUmi4r1h1z",
        "outputId": "936586e6-8141-4343-e7aa-d3b5cd069d67",
        "colab": {
          "base_uri": "https://localhost:8080/"
        }
      },
      "outputs": [
        {
          "output_type": "execute_result",
          "data": {
            "text/plain": [
              "1"
            ]
          },
          "metadata": {},
          "execution_count": 1
        }
      ],
      "source": [
        "1"
      ]
    },
    {
      "cell_type": "markdown",
      "metadata": {
        "id": "jH7TzlJ71h10"
      },
      "source": [
        "### 5. Markdown 的用法"
      ]
    },
    {
      "cell_type": "markdown",
      "metadata": {
        "collapsed": true,
        "id": "aexJRRpd1h10"
      },
      "source": [
        "# 一级标题\n",
        "## 二级标题\n",
        "### 三级标题\n",
        "#### 四级标题\n",
        "\n",
        "-----------------\n",
        "- 列表条目\n",
        "- 列表条目\n",
        "\n",
        "-----------------\n",
        "\n",
        "1. 序号条目\n",
        "2. 序号条目\n"
      ]
    },
    {
      "cell_type": "code",
      "execution_count": null,
      "metadata": {
        "collapsed": true,
        "id": "HjtyP0Op1h10"
      },
      "outputs": [],
      "source": []
    }
  ],
  "metadata": {
    "kernelspec": {
      "display_name": "Python 3",
      "language": "python",
      "name": "python3"
    },
    "language_info": {
      "codemirror_mode": {
        "name": "ipython",
        "version": 3
      },
      "file_extension": ".py",
      "mimetype": "text/x-python",
      "name": "python",
      "nbconvert_exporter": "python",
      "pygments_lexer": "ipython3",
      "version": "3.8.2"
    },
    "colab": {
      "provenance": [],
      "toc_visible": true
    }
  },
  "nbformat": 4,
  "nbformat_minor": 0
}